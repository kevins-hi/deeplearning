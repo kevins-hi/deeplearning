{
  "nbformat": 4,
  "nbformat_minor": 0,
  "metadata": {
    "colab": {
      "provenance": []
    },
    "kernelspec": {
      "name": "python3",
      "display_name": "Python 3"
    },
    "language_info": {
      "name": "python"
    },
    "accelerator": "GPU",
    "gpuClass": "standard",
    "widgets": {
      "application/vnd.jupyter.widget-state+json": {
        "405b532839664069a4995956ae4a7f7c": {
          "model_module": "@jupyter-widgets/controls",
          "model_name": "HBoxModel",
          "model_module_version": "1.5.0",
          "state": {
            "_dom_classes": [],
            "_model_module": "@jupyter-widgets/controls",
            "_model_module_version": "1.5.0",
            "_model_name": "HBoxModel",
            "_view_count": null,
            "_view_module": "@jupyter-widgets/controls",
            "_view_module_version": "1.5.0",
            "_view_name": "HBoxView",
            "box_style": "",
            "children": [
              "IPY_MODEL_19deb0508b1c49e892612b206bda3e5e",
              "IPY_MODEL_f9bccf05d6264ff9a20fd827d90becc8",
              "IPY_MODEL_9afff34638b14885863e91f0108ea6c5"
            ],
            "layout": "IPY_MODEL_9ec4f2e6277c4401ac18e28371548710"
          }
        },
        "19deb0508b1c49e892612b206bda3e5e": {
          "model_module": "@jupyter-widgets/controls",
          "model_name": "HTMLModel",
          "model_module_version": "1.5.0",
          "state": {
            "_dom_classes": [],
            "_model_module": "@jupyter-widgets/controls",
            "_model_module_version": "1.5.0",
            "_model_name": "HTMLModel",
            "_view_count": null,
            "_view_module": "@jupyter-widgets/controls",
            "_view_module_version": "1.5.0",
            "_view_name": "HTMLView",
            "description": "",
            "description_tooltip": null,
            "layout": "IPY_MODEL_2f702ed086e345a8a5068dc40497cc0b",
            "placeholder": "​",
            "style": "IPY_MODEL_3e1a72af776c474bba57882940a44a15",
            "value": "100%"
          }
        },
        "f9bccf05d6264ff9a20fd827d90becc8": {
          "model_module": "@jupyter-widgets/controls",
          "model_name": "FloatProgressModel",
          "model_module_version": "1.5.0",
          "state": {
            "_dom_classes": [],
            "_model_module": "@jupyter-widgets/controls",
            "_model_module_version": "1.5.0",
            "_model_name": "FloatProgressModel",
            "_view_count": null,
            "_view_module": "@jupyter-widgets/controls",
            "_view_module_version": "1.5.0",
            "_view_name": "ProgressView",
            "bar_style": "success",
            "description": "",
            "description_tooltip": null,
            "layout": "IPY_MODEL_7b60746cae654db9b968217f276e30ec",
            "max": 170498071,
            "min": 0,
            "orientation": "horizontal",
            "style": "IPY_MODEL_5f162f9fa4154a1b8b30addbed1ae426",
            "value": 170498071
          }
        },
        "9afff34638b14885863e91f0108ea6c5": {
          "model_module": "@jupyter-widgets/controls",
          "model_name": "HTMLModel",
          "model_module_version": "1.5.0",
          "state": {
            "_dom_classes": [],
            "_model_module": "@jupyter-widgets/controls",
            "_model_module_version": "1.5.0",
            "_model_name": "HTMLModel",
            "_view_count": null,
            "_view_module": "@jupyter-widgets/controls",
            "_view_module_version": "1.5.0",
            "_view_name": "HTMLView",
            "description": "",
            "description_tooltip": null,
            "layout": "IPY_MODEL_55ec4a1c583749e98eaa841ece40b6ed",
            "placeholder": "​",
            "style": "IPY_MODEL_18d02099192247c491c6240fd15d687e",
            "value": " 170498071/170498071 [00:13&lt;00:00, 14663902.02it/s]"
          }
        },
        "9ec4f2e6277c4401ac18e28371548710": {
          "model_module": "@jupyter-widgets/base",
          "model_name": "LayoutModel",
          "model_module_version": "1.2.0",
          "state": {
            "_model_module": "@jupyter-widgets/base",
            "_model_module_version": "1.2.0",
            "_model_name": "LayoutModel",
            "_view_count": null,
            "_view_module": "@jupyter-widgets/base",
            "_view_module_version": "1.2.0",
            "_view_name": "LayoutView",
            "align_content": null,
            "align_items": null,
            "align_self": null,
            "border": null,
            "bottom": null,
            "display": null,
            "flex": null,
            "flex_flow": null,
            "grid_area": null,
            "grid_auto_columns": null,
            "grid_auto_flow": null,
            "grid_auto_rows": null,
            "grid_column": null,
            "grid_gap": null,
            "grid_row": null,
            "grid_template_areas": null,
            "grid_template_columns": null,
            "grid_template_rows": null,
            "height": null,
            "justify_content": null,
            "justify_items": null,
            "left": null,
            "margin": null,
            "max_height": null,
            "max_width": null,
            "min_height": null,
            "min_width": null,
            "object_fit": null,
            "object_position": null,
            "order": null,
            "overflow": null,
            "overflow_x": null,
            "overflow_y": null,
            "padding": null,
            "right": null,
            "top": null,
            "visibility": null,
            "width": null
          }
        },
        "2f702ed086e345a8a5068dc40497cc0b": {
          "model_module": "@jupyter-widgets/base",
          "model_name": "LayoutModel",
          "model_module_version": "1.2.0",
          "state": {
            "_model_module": "@jupyter-widgets/base",
            "_model_module_version": "1.2.0",
            "_model_name": "LayoutModel",
            "_view_count": null,
            "_view_module": "@jupyter-widgets/base",
            "_view_module_version": "1.2.0",
            "_view_name": "LayoutView",
            "align_content": null,
            "align_items": null,
            "align_self": null,
            "border": null,
            "bottom": null,
            "display": null,
            "flex": null,
            "flex_flow": null,
            "grid_area": null,
            "grid_auto_columns": null,
            "grid_auto_flow": null,
            "grid_auto_rows": null,
            "grid_column": null,
            "grid_gap": null,
            "grid_row": null,
            "grid_template_areas": null,
            "grid_template_columns": null,
            "grid_template_rows": null,
            "height": null,
            "justify_content": null,
            "justify_items": null,
            "left": null,
            "margin": null,
            "max_height": null,
            "max_width": null,
            "min_height": null,
            "min_width": null,
            "object_fit": null,
            "object_position": null,
            "order": null,
            "overflow": null,
            "overflow_x": null,
            "overflow_y": null,
            "padding": null,
            "right": null,
            "top": null,
            "visibility": null,
            "width": null
          }
        },
        "3e1a72af776c474bba57882940a44a15": {
          "model_module": "@jupyter-widgets/controls",
          "model_name": "DescriptionStyleModel",
          "model_module_version": "1.5.0",
          "state": {
            "_model_module": "@jupyter-widgets/controls",
            "_model_module_version": "1.5.0",
            "_model_name": "DescriptionStyleModel",
            "_view_count": null,
            "_view_module": "@jupyter-widgets/base",
            "_view_module_version": "1.2.0",
            "_view_name": "StyleView",
            "description_width": ""
          }
        },
        "7b60746cae654db9b968217f276e30ec": {
          "model_module": "@jupyter-widgets/base",
          "model_name": "LayoutModel",
          "model_module_version": "1.2.0",
          "state": {
            "_model_module": "@jupyter-widgets/base",
            "_model_module_version": "1.2.0",
            "_model_name": "LayoutModel",
            "_view_count": null,
            "_view_module": "@jupyter-widgets/base",
            "_view_module_version": "1.2.0",
            "_view_name": "LayoutView",
            "align_content": null,
            "align_items": null,
            "align_self": null,
            "border": null,
            "bottom": null,
            "display": null,
            "flex": null,
            "flex_flow": null,
            "grid_area": null,
            "grid_auto_columns": null,
            "grid_auto_flow": null,
            "grid_auto_rows": null,
            "grid_column": null,
            "grid_gap": null,
            "grid_row": null,
            "grid_template_areas": null,
            "grid_template_columns": null,
            "grid_template_rows": null,
            "height": null,
            "justify_content": null,
            "justify_items": null,
            "left": null,
            "margin": null,
            "max_height": null,
            "max_width": null,
            "min_height": null,
            "min_width": null,
            "object_fit": null,
            "object_position": null,
            "order": null,
            "overflow": null,
            "overflow_x": null,
            "overflow_y": null,
            "padding": null,
            "right": null,
            "top": null,
            "visibility": null,
            "width": null
          }
        },
        "5f162f9fa4154a1b8b30addbed1ae426": {
          "model_module": "@jupyter-widgets/controls",
          "model_name": "ProgressStyleModel",
          "model_module_version": "1.5.0",
          "state": {
            "_model_module": "@jupyter-widgets/controls",
            "_model_module_version": "1.5.0",
            "_model_name": "ProgressStyleModel",
            "_view_count": null,
            "_view_module": "@jupyter-widgets/base",
            "_view_module_version": "1.2.0",
            "_view_name": "StyleView",
            "bar_color": null,
            "description_width": ""
          }
        },
        "55ec4a1c583749e98eaa841ece40b6ed": {
          "model_module": "@jupyter-widgets/base",
          "model_name": "LayoutModel",
          "model_module_version": "1.2.0",
          "state": {
            "_model_module": "@jupyter-widgets/base",
            "_model_module_version": "1.2.0",
            "_model_name": "LayoutModel",
            "_view_count": null,
            "_view_module": "@jupyter-widgets/base",
            "_view_module_version": "1.2.0",
            "_view_name": "LayoutView",
            "align_content": null,
            "align_items": null,
            "align_self": null,
            "border": null,
            "bottom": null,
            "display": null,
            "flex": null,
            "flex_flow": null,
            "grid_area": null,
            "grid_auto_columns": null,
            "grid_auto_flow": null,
            "grid_auto_rows": null,
            "grid_column": null,
            "grid_gap": null,
            "grid_row": null,
            "grid_template_areas": null,
            "grid_template_columns": null,
            "grid_template_rows": null,
            "height": null,
            "justify_content": null,
            "justify_items": null,
            "left": null,
            "margin": null,
            "max_height": null,
            "max_width": null,
            "min_height": null,
            "min_width": null,
            "object_fit": null,
            "object_position": null,
            "order": null,
            "overflow": null,
            "overflow_x": null,
            "overflow_y": null,
            "padding": null,
            "right": null,
            "top": null,
            "visibility": null,
            "width": null
          }
        },
        "18d02099192247c491c6240fd15d687e": {
          "model_module": "@jupyter-widgets/controls",
          "model_name": "DescriptionStyleModel",
          "model_module_version": "1.5.0",
          "state": {
            "_model_module": "@jupyter-widgets/controls",
            "_model_module_version": "1.5.0",
            "_model_name": "DescriptionStyleModel",
            "_view_count": null,
            "_view_module": "@jupyter-widgets/base",
            "_view_module_version": "1.2.0",
            "_view_name": "StyleView",
            "description_width": ""
          }
        }
      }
    }
  },
  "cells": [
    {
      "cell_type": "code",
      "execution_count": 1,
      "metadata": {
        "id": "Bl7Wxwy9nEOO"
      },
      "outputs": [],
      "source": [
        "import numpy as np\n",
        "import matplotlib.pyplot as plt\n",
        "import torch\n",
        "import torch.nn as nn\n",
        "import torch.nn.functional as F\n",
        "import torch.optim as optim\n",
        "import torchvision\n",
        "import torchvision.models as models\n",
        "import torchvision.transforms as transforms"
      ]
    },
    {
      "cell_type": "code",
      "source": [
        "mean = (0.485, 0.456, 0.406)\n",
        "std = (0.229, 0.224, 0.225)\n",
        "\n",
        "train_transform = transforms.Compose(\n",
        "    [transforms.ToTensor(),\n",
        "     transforms.Normalize(mean, std),\n",
        "     transforms.RandomHorizontalFlip(0.5),\n",
        "     transforms.RandomCrop(32, 4)])\n",
        "\n",
        "test_transform = transforms.Compose([\n",
        "    transforms.ToTensor(),\n",
        "    transforms.Normalize(mean, std)\n",
        "])\n",
        "\n",
        "batch_size = 64\n",
        "\n",
        "trainset = torchvision.datasets.CIFAR10(root='./data', train=True,\n",
        "                                        download=True, transform=train_transform)\n",
        "\n",
        "train, val = torch.utils.data.random_split(trainset, [48000, 2000])\n",
        "trainloader = torch.utils.data.DataLoader(train, batch_size=batch_size,\n",
        "                                          shuffle=True, num_workers=2)\n",
        "valloader = torch.utils.data.DataLoader(val, batch_size=batch_size,\n",
        "                                          shuffle=True, num_workers=2)\n",
        "\n",
        "testset = torchvision.datasets.CIFAR10(root='./data', train=False,\n",
        "                                       download=True, transform=test_transform)\n",
        "testloader = torch.utils.data.DataLoader(testset, batch_size=batch_size,\n",
        "                                         shuffle=False, num_workers=2)\n",
        "\n",
        "classes = ('plane', 'car', 'bird', 'cat',\n",
        "           'deer', 'dog', 'frog', 'horse', 'ship', 'truck')"
      ],
      "metadata": {
        "id": "FkQvjkksnIek",
        "colab": {
          "base_uri": "https://localhost:8080/",
          "height": 103,
          "referenced_widgets": [
            "405b532839664069a4995956ae4a7f7c",
            "19deb0508b1c49e892612b206bda3e5e",
            "f9bccf05d6264ff9a20fd827d90becc8",
            "9afff34638b14885863e91f0108ea6c5",
            "9ec4f2e6277c4401ac18e28371548710",
            "2f702ed086e345a8a5068dc40497cc0b",
            "3e1a72af776c474bba57882940a44a15",
            "7b60746cae654db9b968217f276e30ec",
            "5f162f9fa4154a1b8b30addbed1ae426",
            "55ec4a1c583749e98eaa841ece40b6ed",
            "18d02099192247c491c6240fd15d687e"
          ]
        },
        "outputId": "e0f2c105-0de5-43f1-8d1c-12444033b689"
      },
      "execution_count": 2,
      "outputs": [
        {
          "output_type": "stream",
          "name": "stdout",
          "text": [
            "Downloading https://www.cs.toronto.edu/~kriz/cifar-10-python.tar.gz to ./data/cifar-10-python.tar.gz\n"
          ]
        },
        {
          "output_type": "display_data",
          "data": {
            "text/plain": [
              "  0%|          | 0/170498071 [00:00<?, ?it/s]"
            ],
            "application/vnd.jupyter.widget-view+json": {
              "version_major": 2,
              "version_minor": 0,
              "model_id": "405b532839664069a4995956ae4a7f7c"
            }
          },
          "metadata": {}
        },
        {
          "output_type": "stream",
          "name": "stdout",
          "text": [
            "Extracting ./data/cifar-10-python.tar.gz to ./data\n",
            "Files already downloaded and verified\n"
          ]
        }
      ]
    },
    {
      "cell_type": "code",
      "source": [
        "device = torch.device('cuda:0' if torch.cuda.is_available() else 'cpu')\n",
        "print(device)"
      ],
      "metadata": {
        "id": "wjhSxX2xpjQP",
        "colab": {
          "base_uri": "https://localhost:8080/"
        },
        "outputId": "6204347c-39f4-4413-9304-312a1efef1da"
      },
      "execution_count": 3,
      "outputs": [
        {
          "output_type": "stream",
          "name": "stdout",
          "text": [
            "cuda:0\n"
          ]
        }
      ]
    },
    {
      "cell_type": "code",
      "source": [
        "class ResidualBlock(nn.Module):\n",
        "  def __init__(self, in_channels):\n",
        "    super().__init__()\n",
        "    self.conv1 = nn.Conv2d(in_channels, in_channels * 2, 3, stride=1, padding=1, bias=False)\n",
        "    self.norm1 = nn.BatchNorm2d(in_channels * 2)\n",
        "    self.conv2 = nn.Conv2d(in_channels * 2, in_channels * 2, 3, stride=1, padding=1, bias=False)\n",
        "    self.norm2 = nn.BatchNorm2d(in_channels * 2)\n",
        "    self.conv3 = nn.Conv2d(in_channels * 2, in_channels, 3, stride=1, padding=1, bias=False)\n",
        "    self.norm3 = nn.BatchNorm2d(in_channels)\n",
        "\n",
        "  def forward(self, x):\n",
        "    residual = x\n",
        "    x = F.relu(self.norm1(self.conv1(x)))\n",
        "    x = F.relu(self.norm2(self.conv2(x)))\n",
        "    x = self.norm3(self.conv3(x))\n",
        "    return F.relu(residual + x)"
      ],
      "metadata": {
        "id": "RbKp9TziCUd5"
      },
      "execution_count": 4,
      "outputs": []
    },
    {
      "cell_type": "code",
      "source": [
        "class Net(nn.Module):\n",
        "    def __init__(self):\n",
        "        super().__init__()\n",
        "        \n",
        "        self.conv1 = nn.Conv2d(3, 64, 3, stride=2, padding=1) # 16x16\n",
        "        self.norm1 = nn.BatchNorm2d(64)\n",
        "\n",
        "        self.res2 = ResidualBlock(64)\n",
        "        self.res2 = ResidualBlock(64)\n",
        "        self.conv2 = nn.Conv2d(64, 128, 3, stride=2, padding=1) # 8x8\n",
        "        self.norm2 = nn.BatchNorm2d(128)\n",
        "\n",
        "        self.res3 = ResidualBlock(128)\n",
        "        self.res3 = ResidualBlock(128)\n",
        "        self.conv3 = nn.Conv2d(128, 256, 3, stride=2, padding=1) # 4x4\n",
        "        self.norm3 = nn.BatchNorm2d(256)\n",
        "\n",
        "        self.res4 = ResidualBlock(256)\n",
        "        self.res4 = ResidualBlock(256)\n",
        "        self.conv4 = nn.Conv2d(256, 512, 3, stride=2, padding=1) # 2x2\n",
        "        self.norm4 = nn.BatchNorm2d(512)\n",
        "\n",
        "        self.res5 = ResidualBlock(512)\n",
        "        self.res5 = ResidualBlock(512)\n",
        "        self.conv5 = nn.Conv2d(512, 1024, 3, stride=2, padding=1) # 1x1\n",
        "        self.norm5 = nn.BatchNorm2d(1024)\n",
        "\n",
        "        self.fc1 = nn.Linear(1024, 256)\n",
        "        self.fc2 = nn.Linear(256, 10)\n",
        "\n",
        "    def forward(self, x):\n",
        "        x = F.relu(self.norm1(self.conv1((x))))\n",
        "        x = F.relu(self.norm2(self.conv2(self.res2(x))))\n",
        "        x = F.relu(self.norm3(self.conv3(self.res3(x))))\n",
        "        x = F.relu(self.norm4(self.conv4(self.res4(x))))\n",
        "        x = F.relu(self.norm5(self.conv5(self.res5(x))))\n",
        "        x = torch.flatten(x, 1)\n",
        "        x = F.relu(self.fc1(x))\n",
        "        x = self.fc2(x)\n",
        "        return x\n",
        "\n",
        "net = Net()\n",
        "net.to(device);"
      ],
      "metadata": {
        "id": "_DAslLwonMJT"
      },
      "execution_count": 5,
      "outputs": []
    },
    {
      "cell_type": "code",
      "source": [
        "criterion = nn.CrossEntropyLoss()\n",
        "optimizer = optim.Adam(net.parameters(), lr=0.001)"
      ],
      "metadata": {
        "id": "wzjT0fEDDZCV"
      },
      "execution_count": 6,
      "outputs": []
    },
    {
      "cell_type": "code",
      "source": [
        "train_losses, val_losses = [], []\n",
        "lowest_val_loss = np.inf\n",
        "PATH = './cifar_net.pth'"
      ],
      "metadata": {
        "id": "HDQcsm7eLAsb"
      },
      "execution_count": 7,
      "outputs": []
    },
    {
      "cell_type": "code",
      "source": [
        "for epoch in range(32):\n",
        "    epoch_train_losses, epoch_val_losses = [], []\n",
        "    for x, y in trainloader:\n",
        "        x, y = x.to(device), y.to(device)\n",
        "        pred = net(x)\n",
        "        loss = criterion(pred, y)\n",
        "        optimizer.zero_grad()\n",
        "        loss.backward()\n",
        "        optimizer.step()\n",
        "        epoch_train_losses.append(loss.detach().cpu().numpy())\n",
        "    \n",
        "    correct = 0\n",
        "    total = 0\n",
        "    for x, y in valloader:\n",
        "        x, y = x.to(device), y.to(device)\n",
        "        pred = net(x)\n",
        "        loss = criterion(pred, y)\n",
        "        epoch_val_losses.append(loss.detach().cpu().numpy())\n",
        "\n",
        "        _, predicted = torch.max(pred.data, 1)\n",
        "        total += y.size(0)\n",
        "        correct += (predicted == y).sum().item()\n",
        "    \n",
        "    avg_train_loss = np.mean(epoch_train_losses)\n",
        "    avg_val_loss = np.mean(epoch_val_losses)\n",
        "    train_losses.append(avg_train_loss)\n",
        "    val_losses.append(avg_val_loss)\n",
        "    print(f'Epoch: {epoch}, Training Loss: {avg_train_loss}, Validation Loss: {avg_val_loss}, Validation Accuracy: {100 * correct // total} %')\n",
        "    if avg_val_loss < lowest_val_loss:\n",
        "      lowest_val_loss = avg_val_loss\n",
        "      torch.save(net.state_dict(), PATH)\n",
        "            \n",
        "print('Finished Training')"
      ],
      "metadata": {
        "id": "xpws4Ss_nVTV",
        "colab": {
          "base_uri": "https://localhost:8080/"
        },
        "outputId": "54512bc9-0445-40aa-dcaa-a7dff8269495"
      },
      "execution_count": 8,
      "outputs": [
        {
          "output_type": "stream",
          "name": "stdout",
          "text": [
            "Epoch: 0, Training Loss: 1.5322623252868652, Validation Loss: 1.3236362934112549, Validation Accuracy: 51 %\n",
            "Epoch: 1, Training Loss: 1.1290141344070435, Validation Loss: 1.0504295825958252, Validation Accuracy: 62 %\n",
            "Epoch: 2, Training Loss: 0.9339710474014282, Validation Loss: 0.8433657884597778, Validation Accuracy: 70 %\n",
            "Epoch: 3, Training Loss: 0.8086270093917847, Validation Loss: 0.7683345079421997, Validation Accuracy: 73 %\n",
            "Epoch: 4, Training Loss: 0.7084589600563049, Validation Loss: 0.7253309488296509, Validation Accuracy: 74 %\n",
            "Epoch: 5, Training Loss: 0.636045515537262, Validation Loss: 0.6260989904403687, Validation Accuracy: 77 %\n",
            "Epoch: 6, Training Loss: 0.5777758359909058, Validation Loss: 0.6093688607215881, Validation Accuracy: 78 %\n",
            "Epoch: 7, Training Loss: 0.5324903130531311, Validation Loss: 0.5672436952590942, Validation Accuracy: 80 %\n",
            "Epoch: 8, Training Loss: 0.485988050699234, Validation Loss: 0.5406346321105957, Validation Accuracy: 82 %\n",
            "Epoch: 9, Training Loss: 0.45659440755844116, Validation Loss: 0.5014550685882568, Validation Accuracy: 83 %\n",
            "Epoch: 10, Training Loss: 0.42855823040008545, Validation Loss: 0.5038143396377563, Validation Accuracy: 82 %\n",
            "Epoch: 11, Training Loss: 0.3998969793319702, Validation Loss: 0.4628433585166931, Validation Accuracy: 84 %\n",
            "Epoch: 12, Training Loss: 0.37819910049438477, Validation Loss: 0.4591684937477112, Validation Accuracy: 84 %\n",
            "Epoch: 13, Training Loss: 0.35308191180229187, Validation Loss: 0.4801517724990845, Validation Accuracy: 83 %\n",
            "Epoch: 14, Training Loss: 0.33192458748817444, Validation Loss: 0.4757300019264221, Validation Accuracy: 84 %\n",
            "Epoch: 15, Training Loss: 0.3120613098144531, Validation Loss: 0.4529731869697571, Validation Accuracy: 85 %\n",
            "Epoch: 16, Training Loss: 0.30137354135513306, Validation Loss: 0.44464626908302307, Validation Accuracy: 85 %\n",
            "Epoch: 17, Training Loss: 0.2815207540988922, Validation Loss: 0.43850094079971313, Validation Accuracy: 86 %\n",
            "Epoch: 18, Training Loss: 0.26473990082740784, Validation Loss: 0.4240407943725586, Validation Accuracy: 85 %\n",
            "Epoch: 19, Training Loss: 0.25208476185798645, Validation Loss: 0.44636040925979614, Validation Accuracy: 85 %\n",
            "Epoch: 20, Training Loss: 0.2411123663187027, Validation Loss: 0.4311264455318451, Validation Accuracy: 86 %\n",
            "Epoch: 21, Training Loss: 0.2273651510477066, Validation Loss: 0.42102065682411194, Validation Accuracy: 86 %\n",
            "Epoch: 22, Training Loss: 0.22093038260936737, Validation Loss: 0.43964409828186035, Validation Accuracy: 85 %\n",
            "Epoch: 23, Training Loss: 0.20605185627937317, Validation Loss: 0.4423104524612427, Validation Accuracy: 85 %\n",
            "Epoch: 24, Training Loss: 0.1990642249584198, Validation Loss: 0.41807425022125244, Validation Accuracy: 87 %\n",
            "Epoch: 25, Training Loss: 0.18429358303546906, Validation Loss: 0.38906896114349365, Validation Accuracy: 88 %\n",
            "Epoch: 26, Training Loss: 0.17914877831935883, Validation Loss: 0.4201148748397827, Validation Accuracy: 86 %\n",
            "Epoch: 27, Training Loss: 0.1682419627904892, Validation Loss: 0.4327181577682495, Validation Accuracy: 87 %\n",
            "Epoch: 28, Training Loss: 0.1634008139371872, Validation Loss: 0.40899723768234253, Validation Accuracy: 87 %\n",
            "Epoch: 29, Training Loss: 0.1609342396259308, Validation Loss: 0.39814993739128113, Validation Accuracy: 88 %\n",
            "Epoch: 30, Training Loss: 0.14986661076545715, Validation Loss: 0.4159196615219116, Validation Accuracy: 88 %\n",
            "Epoch: 31, Training Loss: 0.14352066814899445, Validation Loss: 0.4370477795600891, Validation Accuracy: 87 %\n",
            "Finished Training\n"
          ]
        }
      ]
    },
    {
      "cell_type": "code",
      "source": [
        "plt.plot(train_losses)\n",
        "plt.plot(val_losses)\n",
        "plt.show();"
      ],
      "metadata": {
        "id": "Ktq4UIv0e6AZ",
        "colab": {
          "base_uri": "https://localhost:8080/",
          "height": 269
        },
        "outputId": "3bcd5f92-a9ee-4354-b278-6d2dd2f5d520"
      },
      "execution_count": 9,
      "outputs": [
        {
          "output_type": "display_data",
          "data": {
            "text/plain": [
              "<Figure size 432x288 with 1 Axes>"
            ],
            "image/png": "[encoded data removed]"
          },
          "metadata": {
            "needs_background": "light"
          }
        }
      ]
    },
    {
      "cell_type": "code",
      "source": [
        "net = Net()\n",
        "net.load_state_dict(torch.load('./cifar_net.pth'))\n",
        "net.to(device);"
      ],
      "metadata": {
        "id": "LB9P22Jf0cwV"
      },
      "execution_count": 10,
      "outputs": []
    },
    {
      "cell_type": "code",
      "source": [
        "correct = 0\n",
        "total = 0\n",
        "with torch.no_grad():\n",
        "    for data in testloader:\n",
        "        images, labels = data[0].to(device), data[1].to(device)\n",
        "        outputs = net(images)\n",
        "        _, predicted = torch.max(outputs.data, 1)\n",
        "        total += labels.size(0)\n",
        "        correct += (predicted == labels).sum().item()\n",
        "\n",
        "print(f'Accuracy of the network on the 10000 test images: {100 * correct // total} %')"
      ],
      "metadata": {
        "id": "RRJ2lyfRnx_Y",
        "colab": {
          "base_uri": "https://localhost:8080/"
        },
        "outputId": "ca26e730-4166-42cb-f2a3-5de2e4403c87"
      },
      "execution_count": 11,
      "outputs": [
        {
          "output_type": "stream",
          "name": "stdout",
          "text": [
            "Accuracy of the network on the 10000 test images: 88 %\n"
          ]
        }
      ]
    },
    {
      "cell_type": "code",
      "source": [],
      "metadata": {
        "id": "sIXePhavJ8VL"
      },
      "execution_count": null,
      "outputs": []
    }
  ]
}