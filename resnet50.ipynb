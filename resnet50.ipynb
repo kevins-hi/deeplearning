{
  "cells": [
    {
      "cell_type": "code",
      "execution_count": null,
      "metadata": {
        "id": "hQGx9z8uf73R"
      },
      "outputs": [],
      "source": [
        "import numpy as np\n",
        "import matplotlib.pyplot as plt\n",
        "import torch\n",
        "import torch.nn as nn\n",
        "import torch.nn.functional as F\n",
        "import torch.optim as optim\n",
        "import torchvision\n",
        "import torchvision.models as models\n",
        "import torchvision.transforms as transforms"
      ]
    },
    {
      "cell_type": "code",
      "execution_count": null,
      "metadata": {
        "id": "PX2FEAiM9kV2"
      },
      "outputs": [],
      "source": [
        "PATH = './cifar_net.pth'\n",
        "\n",
        "mean = (0.485, 0.456, 0.406)\n",
        "std = (0.229, 0.224, 0.225)\n",
        "\n",
        "train_transform = transforms.Compose([\n",
        "    transforms.ToTensor(),\n",
        "    transforms.Normalize(mean, std),\n",
        "    transforms.RandomHorizontalFlip(0.5),\n",
        "    transforms.RandomCrop(32, 4)])\n",
        "\n",
        "test_transform = transforms.Compose([\n",
        "    transforms.ToTensor(),\n",
        "    transforms.Normalize(mean, std)\n",
        "])\n",
        "\n",
        "batch_size = 64\n",
        "\n",
        "trainset = torchvision.datasets.CIFAR10(root='./data', train=True,\n",
        "                                        download=True, transform=train_transform)\n",
        "\n",
        "train, val = torch.utils.data.random_split(trainset, [48000, 2000])\n",
        "trainloader = torch.utils.data.DataLoader(train, batch_size=batch_size,\n",
        "                                          shuffle=True, num_workers=2)\n",
        "valloader = torch.utils.data.DataLoader(val, batch_size=batch_size,\n",
        "                                          shuffle=True, num_workers=2)\n",
        "\n",
        "testset = torchvision.datasets.CIFAR10(root='./data', train=False,\n",
        "                                       download=True, transform=test_transform)\n",
        "testloader = torch.utils.data.DataLoader(testset, batch_size=batch_size,\n",
        "                                         shuffle=False, num_workers=2)\n",
        "\n",
        "classes = ('plane', 'car', 'bird', 'cat',\n",
        "           'deer', 'dog', 'frog', 'horse', 'ship', 'truck')"
      ]
    },
    {
      "cell_type": "code",
      "execution_count": null,
      "metadata": {
        "id": "CZaWBpJv9zoK"
      },
      "outputs": [],
      "source": [
        "device = torch.device('cuda:0' if torch.cuda.is_available() else 'cpu')\n",
        "print(device)"
      ]
    },
    {
      "cell_type": "code",
      "execution_count": null,
      "metadata": {
        "id": "tLUolkGd9ogG"
      },
      "outputs": [],
      "source": [
        "class Bottleneck(nn.Module):\n",
        "  def __init__(self, in_channels, mid_channels, out_channels, conv2stride, downsample):\n",
        "    super().__init__()\n",
        "    self.conv1 = nn.Conv2d(in_channels, mid_channels, 1, stride=1, bias=False)\n",
        "    self.bn1 = nn.BatchNorm2d(mid_channels)\n",
        "    self.conv2 = nn.Conv2d(mid_channels, mid_channels, 3, stride=conv2stride, padding=1, bias=False)\n",
        "    self.bn2 = nn.BatchNorm2d(mid_channels)\n",
        "    self.conv3 = nn.Conv2d(mid_channels, out_channels, 1, stride=1, bias=False)\n",
        "    self.bn3 = nn.BatchNorm2d(out_channels)\n",
        "    self.relu = nn.ReLU()\n",
        "    if downsample:\n",
        "      self.downsample = nn.Sequential(\n",
        "          nn.Conv2d(in_channels, out_channels, 1, stride=conv2stride, bias=False),\n",
        "          nn.BatchNorm2d(out_channels))\n",
        "    else: \n",
        "      self.downsample = None\n",
        "  \n",
        "  def forward(self, x):\n",
        "    residual = x\n",
        "    x = self.relu(self.bn1(self.conv1(x)))\n",
        "    x = self.relu(self.bn2(self.conv2(x)))\n",
        "    x = self.bn3(self.conv3(x))\n",
        "    if self.downsample:\n",
        "      residual = self.downsample(residual)\n",
        "    return self.relu(x + residual)"
      ]
    },
    {
      "cell_type": "code",
      "execution_count": null,
      "metadata": {
        "id": "gc2iJkG79qu4"
      },
      "outputs": [],
      "source": [
        "class Resnet50(nn.Module):\n",
        "  def __init__(self):\n",
        "    super().__init__()\n",
        "    self.conv1 = nn.Conv2d(3, 64, 7, stride=2, padding=3, bias=False)\n",
        "    self.bn1 = nn.BatchNorm2d(64)\n",
        "    self.relu = nn.ReLU()\n",
        "    self.maxpool = nn.MaxPool2d(3, stride=2, padding=1)\n",
        "    self.layer1 = nn.Sequential(\n",
        "        Bottleneck(64, 64, 256, 1, True),\n",
        "        Bottleneck(256, 64, 256, 1, False),\n",
        "        Bottleneck(256, 64, 256, 1, False))\n",
        "    self.layer2 = nn.Sequential(\n",
        "        Bottleneck(256, 128, 512, 2, True),\n",
        "        Bottleneck(512, 128, 512, 1, False),\n",
        "        Bottleneck(512, 128, 512, 1, False),\n",
        "        Bottleneck(512, 128, 512, 1, False))\n",
        "    self.layer3 = nn.Sequential(\n",
        "        Bottleneck(512, 256, 1024, 2, True),\n",
        "        Bottleneck(1024, 256, 1024, 1, False),\n",
        "        Bottleneck(1024, 256, 1024, 1, False),\n",
        "        Bottleneck(1024, 256, 1024, 1, False),\n",
        "        Bottleneck(1024, 256, 1024, 1, False),\n",
        "        Bottleneck(1024, 256, 1024, 1, False))\n",
        "    self.layer4 = nn.Sequential(\n",
        "        Bottleneck(1024, 512, 2048, 2, True),\n",
        "        Bottleneck(2048, 512, 2048, 1, False),\n",
        "        Bottleneck(2048, 512, 2048, 1, False))\n",
        "    self.avgpool = nn.AdaptiveAvgPool2d(1)\n",
        "    self.fc1 = nn.Linear(2048, 1024)\n",
        "    self.fc2 = nn.Linear(1024, 10)\n",
        "  \n",
        "  def forward(self, x):\n",
        "    x = self.maxpool(self.relu(self.bn1(self.conv1(x))))\n",
        "    x = self.avgpool(self.layer4(self.layer3(self.layer2(self.layer1(x)))))\n",
        "    x = torch.flatten(x, 1)\n",
        "    x = self.relu(self.fc1(x))\n",
        "    x = self.fc2(x)\n",
        "    return x\n",
        "\n",
        "net = Resnet50()\n",
        "net.to(device)\n",
        "\n",
        "criterion = nn.CrossEntropyLoss()\n",
        "optimizer = optim.Adam(net.parameters(), lr=0.001)\n",
        "\n",
        "train_losses, val_losses = [], []\n",
        "lowest_val_loss = np.inf"
      ]
    },
    {
      "cell_type": "code",
      "execution_count": null,
      "metadata": {
        "id": "XzhdkSyb9572"
      },
      "outputs": [],
      "source": [
        "for epoch in range(32):\n",
        "    epoch_train_losses, epoch_val_losses = [], []\n",
        "    for x, y in trainloader:\n",
        "        x, y = x.to(device), y.to(device)\n",
        "        pred = net(x)\n",
        "        loss = criterion(pred, y)\n",
        "        optimizer.zero_grad()\n",
        "        loss.backward()\n",
        "        optimizer.step()\n",
        "        epoch_train_losses.append(loss.detach().cpu().numpy())\n",
        "    \n",
        "    correct = 0\n",
        "    total = 0\n",
        "    for x, y in valloader:\n",
        "        x, y = x.to(device), y.to(device)\n",
        "        pred = net(x)\n",
        "        loss = criterion(pred, y)\n",
        "        epoch_val_losses.append(loss.detach().cpu().numpy())\n",
        "\n",
        "        _, predicted = torch.max(pred.data, 1)\n",
        "        total += y.size(0)\n",
        "        correct += (predicted == y).sum().item()\n",
        "    \n",
        "    avg_train_loss = np.mean(epoch_train_losses)\n",
        "    avg_val_loss = np.mean(epoch_val_losses)\n",
        "    train_losses.append(avg_train_loss)\n",
        "    val_losses.append(avg_val_loss)\n",
        "    print(f'Epoch: {epoch}, Training Loss: {avg_train_loss}, Validation Loss: {avg_val_loss}, Validation Accuracy: {100 * correct // total} %')\n",
        "    if avg_val_loss < lowest_val_loss:\n",
        "      lowest_val_loss = avg_val_loss\n",
        "      torch.save(net.state_dict(), PATH)\n",
        "            \n",
        "print('Finished Training')"
      ]
    },
    {
      "cell_type": "code",
      "execution_count": null,
      "metadata": {
        "id": "XwWIievB-Box"
      },
      "outputs": [],
      "source": [
        "plt.plot(train_losses)\n",
        "plt.plot(val_losses)\n",
        "plt.show();"
      ]
    },
    {
      "cell_type": "code",
      "execution_count": null,
      "metadata": {
        "id": "ccRIhldi-CIS"
      },
      "outputs": [],
      "source": [
        "net = Resnet50()\n",
        "net.load_state_dict(torch.load('./cifar_net.pth'))\n",
        "net.to(device);"
      ]
    },
    {
      "cell_type": "code",
      "execution_count": null,
      "metadata": {
        "id": "DbUFxPq8-D6n"
      },
      "outputs": [],
      "source": [
        "correct = 0\n",
        "total = 0\n",
        "with torch.no_grad():\n",
        "    for data in testloader:\n",
        "        images, labels = data[0].to(device), data[1].to(device)\n",
        "        outputs = net(images)\n",
        "        _, predicted = torch.max(outputs.data, 1)\n",
        "        total += labels.size(0)\n",
        "        correct += (predicted == labels).sum().item()\n",
        "\n",
        "print(f'Accuracy of the network on the 10000 test images: {100 * correct // total} %')"
      ]
    },
    {
      "cell_type": "code",
      "execution_count": null,
      "metadata": {
        "id": "IQulcUS4GWBj"
      },
      "outputs": [],
      "source": []
    }
  ],
  "metadata": {
    "accelerator": "GPU",
    "colab": {
      "provenance": []
    },
    "gpuClass": "standard",
    "kernelspec": {
      "display_name": "Python 3",
      "name": "python3"
    },
    "language_info": {
      "name": "python"
    }
  },
  "nbformat": 4,
  "nbformat_minor": 0
}
