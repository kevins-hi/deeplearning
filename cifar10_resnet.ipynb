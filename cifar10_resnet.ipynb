{
  "nbformat": 4,
  "nbformat_minor": 0,
  "metadata": {
    "colab": {
      "provenance": []
    },
    "kernelspec": {
      "name": "python3",
      "display_name": "Python 3"
    },
    "language_info": {
      "name": "python"
    },
    "accelerator": "GPU",
    "gpuClass": "standard"
  },
  "cells": [
    {
      "cell_type": "code",
      "execution_count": null,
      "metadata": {
        "id": "Bl7Wxwy9nEOO"
      },
      "outputs": [],
      "source": [
        "import numpy as np\n",
        "import matplotlib.pyplot as plt\n",
        "import torch\n",
        "import torch.nn as nn\n",
        "import torch.nn.functional as F\n",
        "import torch.optim as optim\n",
        "import torchvision\n",
        "import torchvision.models as models\n",
        "import torchvision.transforms as transforms"
      ]
    },
    {
      "cell_type": "code",
      "source": [
        "mean = (0.485, 0.456, 0.406)\n",
        "std = (0.229, 0.224, 0.225)\n",
        "\n",
        "train_transform = transforms.Compose(\n",
        "    [transforms.ToTensor(),\n",
        "     transforms.Normalize(mean, std),\n",
        "     transforms.RandomHorizontalFlip(0.5),\n",
        "     transforms.RandomCrop(32, 4)])\n",
        "\n",
        "test_transform = transforms.Compose([\n",
        "    transforms.ToTensor(),\n",
        "    transforms.Normalize(mean, std)\n",
        "])\n",
        "\n",
        "batch_size = 64\n",
        "\n",
        "trainset = torchvision.datasets.CIFAR10(root='./data', train=True,\n",
        "                                        download=True, transform=train_transform)\n",
        "\n",
        "train, val = torch.utils.data.random_split(trainset, [48000, 2000])\n",
        "trainloader = torch.utils.data.DataLoader(train, batch_size=batch_size,\n",
        "                                          shuffle=True, num_workers=2)\n",
        "valloader = torch.utils.data.DataLoader(val, batch_size=batch_size,\n",
        "                                          shuffle=True, num_workers=2)\n",
        "\n",
        "testset = torchvision.datasets.CIFAR10(root='./data', train=False,\n",
        "                                       download=True, transform=test_transform)\n",
        "testloader = torch.utils.data.DataLoader(testset, batch_size=batch_size,\n",
        "                                         shuffle=False, num_workers=2)\n",
        "\n",
        "classes = ('plane', 'car', 'bird', 'cat',\n",
        "           'deer', 'dog', 'frog', 'horse', 'ship', 'truck')"
      ],
      "metadata": {
        "id": "FkQvjkksnIek"
      },
      "execution_count": null,
      "outputs": []
    },
    {
      "cell_type": "code",
      "source": [
        "device = torch.device('cuda:0' if torch.cuda.is_available() else 'cpu')\n",
        "print(device)"
      ],
      "metadata": {
        "id": "wjhSxX2xpjQP"
      },
      "execution_count": null,
      "outputs": []
    },
    {
      "cell_type": "code",
      "source": [
        "class ResidualBlock(nn.Module):\n",
        "  def __init__(self, in_channels):\n",
        "    super().__init__()\n",
        "    self.conv1 = nn.Conv2d(in_channels, in_channels * 2, 3, stride=1, padding=1, bias=False)\n",
        "    self.norm1 = nn.BatchNorm2d(in_channels * 2)\n",
        "    self.conv2 = nn.Conv2d(in_channels * 2, in_channels * 2, 3, stride=1, padding=1, bias=False)\n",
        "    self.norm2 = nn.BatchNorm2d(in_channels * 2)\n",
        "    self.conv3 = nn.Conv2d(in_channels * 2, in_channels, 3, stride=1, padding=1, bias=False)\n",
        "    self.norm3 = nn.BatchNorm2d(in_channels)\n",
        "\n",
        "  def forward(self, x):\n",
        "    residual = x\n",
        "    x = F.relu(self.norm1(self.conv1(x)))\n",
        "    x = F.relu(self.norm2(self.conv2(x)))\n",
        "    x = self.norm3(self.conv3(x))\n",
        "    return F.relu(residual + x)"
      ],
      "metadata": {
        "id": "RbKp9TziCUd5"
      },
      "execution_count": null,
      "outputs": []
    },
    {
      "cell_type": "code",
      "source": [
        "class Net(nn.Module):\n",
        "    def __init__(self):\n",
        "        super().__init__()\n",
        "        \n",
        "        self.conv1 = nn.Conv2d(3, 64, 3, stride=2, padding=1) # 16x16\n",
        "        self.norm1 = nn.BatchNorm2d(64)\n",
        "\n",
        "        self.res2 = ResidualBlock(64)\n",
        "        self.res2 = ResidualBlock(64)\n",
        "        self.conv2 = nn.Conv2d(64, 128, 3, stride=2, padding=1) # 8x8\n",
        "        self.norm2 = nn.BatchNorm2d(128)\n",
        "\n",
        "        self.res3 = ResidualBlock(128)\n",
        "        self.res3 = ResidualBlock(128)\n",
        "        self.conv3 = nn.Conv2d(128, 256, 3, stride=2, padding=1) # 4x4\n",
        "        self.norm3 = nn.BatchNorm2d(256)\n",
        "\n",
        "        self.res4 = ResidualBlock(256)\n",
        "        self.res4 = ResidualBlock(256)\n",
        "        self.conv4 = nn.Conv2d(256, 512, 3, stride=2, padding=1) # 2x2\n",
        "        self.norm4 = nn.BatchNorm2d(512)\n",
        "\n",
        "        self.res5 = ResidualBlock(512)\n",
        "        self.res5 = ResidualBlock(512)\n",
        "        self.conv5 = nn.Conv2d(512, 1024, 3, stride=2, padding=1) # 1x1\n",
        "        self.norm5 = nn.BatchNorm2d(1024)\n",
        "\n",
        "        self.fc1 = nn.Linear(1024, 256)\n",
        "        self.fc2 = nn.Linear(256, 10)\n",
        "\n",
        "    def forward(self, x):\n",
        "        x = F.relu(self.norm1(self.conv1((x))))\n",
        "        x = F.relu(self.norm2(self.conv2(self.res2(x))))\n",
        "        x = F.relu(self.norm3(self.conv3(self.res3(x))))\n",
        "        x = F.relu(self.norm4(self.conv4(self.res4(x))))\n",
        "        x = F.relu(self.norm5(self.conv5(self.res5(x))))\n",
        "        x = torch.flatten(x, 1)\n",
        "        x = F.relu(self.fc1(x))\n",
        "        x = self.fc2(x)\n",
        "        return x\n",
        "\n",
        "net = Net()\n",
        "net.to(device)"
      ],
      "metadata": {
        "id": "_DAslLwonMJT"
      },
      "execution_count": null,
      "outputs": []
    },
    {
      "cell_type": "code",
      "source": [
        "criterion = nn.CrossEntropyLoss()\n",
        "optimizer = optim.Adam(net.parameters(), lr=0.001)"
      ],
      "metadata": {
        "id": "wzjT0fEDDZCV"
      },
      "execution_count": null,
      "outputs": []
    },
    {
      "cell_type": "code",
      "source": [
        "train_losses, val_losses = [], []\n",
        "lowest_val_loss = np.inf\n",
        "PATH = './cifar_net.pth'"
      ],
      "metadata": {
        "id": "HDQcsm7eLAsb"
      },
      "execution_count": null,
      "outputs": []
    },
    {
      "cell_type": "code",
      "source": [
        "for epoch in range(32):\n",
        "    epoch_train_losses, epoch_val_losses = [], []\n",
        "    for x, y in trainloader:\n",
        "        x, y = x.to(device), y.to(device)\n",
        "        pred = net(x)\n",
        "        loss = criterion(pred, y)\n",
        "        optimizer.zero_grad()\n",
        "        loss.backward()\n",
        "        optimizer.step()\n",
        "        epoch_train_losses.append(loss.detach().cpu().numpy())\n",
        "    \n",
        "    correct = 0\n",
        "    total = 0\n",
        "    for x, y in valloader:\n",
        "        x, y = x.to(device), y.to(device)\n",
        "        pred = net(x)\n",
        "        loss = criterion(pred, y)\n",
        "        epoch_val_losses.append(loss.detach().cpu().numpy())\n",
        "\n",
        "        _, predicted = torch.max(pred.data, 1)\n",
        "        total += y.size(0)\n",
        "        correct += (predicted == y).sum().item()\n",
        "    \n",
        "    avg_train_loss = np.mean(epoch_train_losses)\n",
        "    avg_val_loss = np.mean(epoch_val_losses)\n",
        "    train_losses.append(avg_train_loss)\n",
        "    val_losses.append(avg_val_loss)\n",
        "    print(f'Epoch: {epoch}, Training Loss: {avg_train_loss}, Validation Loss: {avg_val_loss}, Validation Accuracy: {100 * correct // total} %')\n",
        "    if avg_val_loss < lowest_val_loss:\n",
        "      lowest_val_loss = avg_val_loss\n",
        "      torch.save(net.state_dict(), PATH)\n",
        "      print('Saving best model')\n",
        "            \n",
        "print('Finished Training')"
      ],
      "metadata": {
        "id": "xpws4Ss_nVTV"
      },
      "execution_count": null,
      "outputs": []
    },
    {
      "cell_type": "code",
      "source": [
        "plt.plot(train_losses)\n",
        "plt.plot(val_losses)\n",
        "plt.show();"
      ],
      "metadata": {
        "id": "Ktq4UIv0e6AZ"
      },
      "execution_count": null,
      "outputs": []
    },
    {
      "cell_type": "code",
      "source": [
        "net = Net()\n",
        "net.load_state_dict(torch.load('./cifar_net.pth'))\n",
        "net.to(device)"
      ],
      "metadata": {
        "id": "LB9P22Jf0cwV"
      },
      "execution_count": null,
      "outputs": []
    },
    {
      "cell_type": "code",
      "source": [
        "correct = 0\n",
        "total = 0\n",
        "with torch.no_grad():\n",
        "    for data in testloader:\n",
        "        images, labels = data[0].to(device), data[1].to(device)\n",
        "        outputs = net(images)\n",
        "        _, predicted = torch.max(outputs.data, 1)\n",
        "        total += labels.size(0)\n",
        "        correct += (predicted == labels).sum().item()\n",
        "\n",
        "print(f'Accuracy of the network on the 10000 test images: {100 * correct // total} %')"
      ],
      "metadata": {
        "id": "RRJ2lyfRnx_Y"
      },
      "execution_count": null,
      "outputs": []
    },
    {
      "cell_type": "code",
      "source": [],
      "metadata": {
        "id": "sIXePhavJ8VL"
      },
      "execution_count": null,
      "outputs": []
    }
  ]
}