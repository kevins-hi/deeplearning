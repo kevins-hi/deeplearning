{
  "nbformat": 4,
  "nbformat_minor": 0,
  "metadata": {
    "colab": {
      "provenance": []
    },
    "kernelspec": {
      "name": "python3",
      "display_name": "Python 3"
    },
    "language_info": {
      "name": "python"
    },
    "accelerator": "GPU",
    "gpuClass": "standard",
    "widgets": {
      "application/vnd.jupyter.widget-state+json": {
        "05fdfedb2b344e16ba444a42f492892e": {
          "model_module": "@jupyter-widgets/controls",
          "model_name": "HBoxModel",
          "model_module_version": "1.5.0",
          "state": {
            "_dom_classes": [],
            "_model_module": "@jupyter-widgets/controls",
            "_model_module_version": "1.5.0",
            "_model_name": "HBoxModel",
            "_view_count": null,
            "_view_module": "@jupyter-widgets/controls",
            "_view_module_version": "1.5.0",
            "_view_name": "HBoxView",
            "box_style": "",
            "children": [
              "IPY_MODEL_a89038c91bee4989af6bf57cf96f8d14",
              "IPY_MODEL_91949cc8a7174e18b0de81a21168bd86",
              "IPY_MODEL_d5890277151c41bf8786557a3ff0722d"
            ],
            "layout": "IPY_MODEL_ca106185da074e0aae976a14da919629"
          }
        },
        "a89038c91bee4989af6bf57cf96f8d14": {
          "model_module": "@jupyter-widgets/controls",
          "model_name": "HTMLModel",
          "model_module_version": "1.5.0",
          "state": {
            "_dom_classes": [],
            "_model_module": "@jupyter-widgets/controls",
            "_model_module_version": "1.5.0",
            "_model_name": "HTMLModel",
            "_view_count": null,
            "_view_module": "@jupyter-widgets/controls",
            "_view_module_version": "1.5.0",
            "_view_name": "HTMLView",
            "description": "",
            "description_tooltip": null,
            "layout": "IPY_MODEL_1955ab3b499a482fac24ce5a84ae7f63",
            "placeholder": "​",
            "style": "IPY_MODEL_610ef949fdae4c6aa8c726e8d9fe48bf",
            "value": "100%"
          }
        },
        "91949cc8a7174e18b0de81a21168bd86": {
          "model_module": "@jupyter-widgets/controls",
          "model_name": "FloatProgressModel",
          "model_module_version": "1.5.0",
          "state": {
            "_dom_classes": [],
            "_model_module": "@jupyter-widgets/controls",
            "_model_module_version": "1.5.0",
            "_model_name": "FloatProgressModel",
            "_view_count": null,
            "_view_module": "@jupyter-widgets/controls",
            "_view_module_version": "1.5.0",
            "_view_name": "ProgressView",
            "bar_style": "success",
            "description": "",
            "description_tooltip": null,
            "layout": "IPY_MODEL_858cf601e7b84df3a86129f48553a7f5",
            "max": 170498071,
            "min": 0,
            "orientation": "horizontal",
            "style": "IPY_MODEL_bb1a61fa6d5b46a9b21e7acab1ed5f05",
            "value": 170498071
          }
        },
        "d5890277151c41bf8786557a3ff0722d": {
          "model_module": "@jupyter-widgets/controls",
          "model_name": "HTMLModel",
          "model_module_version": "1.5.0",
          "state": {
            "_dom_classes": [],
            "_model_module": "@jupyter-widgets/controls",
            "_model_module_version": "1.5.0",
            "_model_name": "HTMLModel",
            "_view_count": null,
            "_view_module": "@jupyter-widgets/controls",
            "_view_module_version": "1.5.0",
            "_view_name": "HTMLView",
            "description": "",
            "description_tooltip": null,
            "layout": "IPY_MODEL_36011eb2087c48f4a23ab95b33a6f2b5",
            "placeholder": "​",
            "style": "IPY_MODEL_153cc1f8a5a94cf8a4d0c0d8074702f0",
            "value": " 170498071/170498071 [00:01&lt;00:00, 99910682.32it/s]"
          }
        },
        "ca106185da074e0aae976a14da919629": {
          "model_module": "@jupyter-widgets/base",
          "model_name": "LayoutModel",
          "model_module_version": "1.2.0",
          "state": {
            "_model_module": "@jupyter-widgets/base",
            "_model_module_version": "1.2.0",
            "_model_name": "LayoutModel",
            "_view_count": null,
            "_view_module": "@jupyter-widgets/base",
            "_view_module_version": "1.2.0",
            "_view_name": "LayoutView",
            "align_content": null,
            "align_items": null,
            "align_self": null,
            "border": null,
            "bottom": null,
            "display": null,
            "flex": null,
            "flex_flow": null,
            "grid_area": null,
            "grid_auto_columns": null,
            "grid_auto_flow": null,
            "grid_auto_rows": null,
            "grid_column": null,
            "grid_gap": null,
            "grid_row": null,
            "grid_template_areas": null,
            "grid_template_columns": null,
            "grid_template_rows": null,
            "height": null,
            "justify_content": null,
            "justify_items": null,
            "left": null,
            "margin": null,
            "max_height": null,
            "max_width": null,
            "min_height": null,
            "min_width": null,
            "object_fit": null,
            "object_position": null,
            "order": null,
            "overflow": null,
            "overflow_x": null,
            "overflow_y": null,
            "padding": null,
            "right": null,
            "top": null,
            "visibility": null,
            "width": null
          }
        },
        "1955ab3b499a482fac24ce5a84ae7f63": {
          "model_module": "@jupyter-widgets/base",
          "model_name": "LayoutModel",
          "model_module_version": "1.2.0",
          "state": {
            "_model_module": "@jupyter-widgets/base",
            "_model_module_version": "1.2.0",
            "_model_name": "LayoutModel",
            "_view_count": null,
            "_view_module": "@jupyter-widgets/base",
            "_view_module_version": "1.2.0",
            "_view_name": "LayoutView",
            "align_content": null,
            "align_items": null,
            "align_self": null,
            "border": null,
            "bottom": null,
            "display": null,
            "flex": null,
            "flex_flow": null,
            "grid_area": null,
            "grid_auto_columns": null,
            "grid_auto_flow": null,
            "grid_auto_rows": null,
            "grid_column": null,
            "grid_gap": null,
            "grid_row": null,
            "grid_template_areas": null,
            "grid_template_columns": null,
            "grid_template_rows": null,
            "height": null,
            "justify_content": null,
            "justify_items": null,
            "left": null,
            "margin": null,
            "max_height": null,
            "max_width": null,
            "min_height": null,
            "min_width": null,
            "object_fit": null,
            "object_position": null,
            "order": null,
            "overflow": null,
            "overflow_x": null,
            "overflow_y": null,
            "padding": null,
            "right": null,
            "top": null,
            "visibility": null,
            "width": null
          }
        },
        "610ef949fdae4c6aa8c726e8d9fe48bf": {
          "model_module": "@jupyter-widgets/controls",
          "model_name": "DescriptionStyleModel",
          "model_module_version": "1.5.0",
          "state": {
            "_model_module": "@jupyter-widgets/controls",
            "_model_module_version": "1.5.0",
            "_model_name": "DescriptionStyleModel",
            "_view_count": null,
            "_view_module": "@jupyter-widgets/base",
            "_view_module_version": "1.2.0",
            "_view_name": "StyleView",
            "description_width": ""
          }
        },
        "858cf601e7b84df3a86129f48553a7f5": {
          "model_module": "@jupyter-widgets/base",
          "model_name": "LayoutModel",
          "model_module_version": "1.2.0",
          "state": {
            "_model_module": "@jupyter-widgets/base",
            "_model_module_version": "1.2.0",
            "_model_name": "LayoutModel",
            "_view_count": null,
            "_view_module": "@jupyter-widgets/base",
            "_view_module_version": "1.2.0",
            "_view_name": "LayoutView",
            "align_content": null,
            "align_items": null,
            "align_self": null,
            "border": null,
            "bottom": null,
            "display": null,
            "flex": null,
            "flex_flow": null,
            "grid_area": null,
            "grid_auto_columns": null,
            "grid_auto_flow": null,
            "grid_auto_rows": null,
            "grid_column": null,
            "grid_gap": null,
            "grid_row": null,
            "grid_template_areas": null,
            "grid_template_columns": null,
            "grid_template_rows": null,
            "height": null,
            "justify_content": null,
            "justify_items": null,
            "left": null,
            "margin": null,
            "max_height": null,
            "max_width": null,
            "min_height": null,
            "min_width": null,
            "object_fit": null,
            "object_position": null,
            "order": null,
            "overflow": null,
            "overflow_x": null,
            "overflow_y": null,
            "padding": null,
            "right": null,
            "top": null,
            "visibility": null,
            "width": null
          }
        },
        "bb1a61fa6d5b46a9b21e7acab1ed5f05": {
          "model_module": "@jupyter-widgets/controls",
          "model_name": "ProgressStyleModel",
          "model_module_version": "1.5.0",
          "state": {
            "_model_module": "@jupyter-widgets/controls",
            "_model_module_version": "1.5.0",
            "_model_name": "ProgressStyleModel",
            "_view_count": null,
            "_view_module": "@jupyter-widgets/base",
            "_view_module_version": "1.2.0",
            "_view_name": "StyleView",
            "bar_color": null,
            "description_width": ""
          }
        },
        "36011eb2087c48f4a23ab95b33a6f2b5": {
          "model_module": "@jupyter-widgets/base",
          "model_name": "LayoutModel",
          "model_module_version": "1.2.0",
          "state": {
            "_model_module": "@jupyter-widgets/base",
            "_model_module_version": "1.2.0",
            "_model_name": "LayoutModel",
            "_view_count": null,
            "_view_module": "@jupyter-widgets/base",
            "_view_module_version": "1.2.0",
            "_view_name": "LayoutView",
            "align_content": null,
            "align_items": null,
            "align_self": null,
            "border": null,
            "bottom": null,
            "display": null,
            "flex": null,
            "flex_flow": null,
            "grid_area": null,
            "grid_auto_columns": null,
            "grid_auto_flow": null,
            "grid_auto_rows": null,
            "grid_column": null,
            "grid_gap": null,
            "grid_row": null,
            "grid_template_areas": null,
            "grid_template_columns": null,
            "grid_template_rows": null,
            "height": null,
            "justify_content": null,
            "justify_items": null,
            "left": null,
            "margin": null,
            "max_height": null,
            "max_width": null,
            "min_height": null,
            "min_width": null,
            "object_fit": null,
            "object_position": null,
            "order": null,
            "overflow": null,
            "overflow_x": null,
            "overflow_y": null,
            "padding": null,
            "right": null,
            "top": null,
            "visibility": null,
            "width": null
          }
        },
        "153cc1f8a5a94cf8a4d0c0d8074702f0": {
          "model_module": "@jupyter-widgets/controls",
          "model_name": "DescriptionStyleModel",
          "model_module_version": "1.5.0",
          "state": {
            "_model_module": "@jupyter-widgets/controls",
            "_model_module_version": "1.5.0",
            "_model_name": "DescriptionStyleModel",
            "_view_count": null,
            "_view_module": "@jupyter-widgets/base",
            "_view_module_version": "1.2.0",
            "_view_name": "StyleView",
            "description_width": ""
          }
        }
      }
    }
  },
  "cells": [
    {
      "cell_type": "code",
      "execution_count": 1,
      "metadata": {
        "id": "Trx-qJtg-uXu"
      },
      "outputs": [],
      "source": [
        "import numpy as np\n",
        "import matplotlib.pyplot as plt\n",
        "import torch\n",
        "import torch.nn as nn\n",
        "import torch.nn.functional as F\n",
        "import torch.optim as optim\n",
        "import torchvision\n",
        "import torchvision.models as models\n",
        "import torchvision.transforms as transforms"
      ]
    },
    {
      "cell_type": "code",
      "source": [
        "mean = (0.485, 0.456, 0.406)\n",
        "std = (0.229, 0.224, 0.225)\n",
        "\n",
        "train_transform = transforms.Compose(\n",
        "    [transforms.ToTensor(),\n",
        "     transforms.Normalize(mean, std),\n",
        "     transforms.RandomHorizontalFlip(0.5),\n",
        "     transforms.RandomCrop(32, 4)])\n",
        "\n",
        "test_transform = transforms.Compose([\n",
        "    transforms.ToTensor(),\n",
        "    transforms.Normalize(mean, std)\n",
        "])\n",
        "\n",
        "batch_size = 64\n",
        "\n",
        "trainset = torchvision.datasets.CIFAR10(root='./data', train=True,\n",
        "                                        download=True, transform=train_transform)\n",
        "\n",
        "train, val = torch.utils.data.random_split(trainset, [48000, 2000])\n",
        "trainloader = torch.utils.data.DataLoader(train, batch_size=batch_size,\n",
        "                                          shuffle=True, num_workers=2)\n",
        "valloader = torch.utils.data.DataLoader(val, batch_size=batch_size,\n",
        "                                          shuffle=True, num_workers=2)\n",
        "\n",
        "testset = torchvision.datasets.CIFAR10(root='./data', train=False,\n",
        "                                       download=True, transform=test_transform)\n",
        "testloader = torch.utils.data.DataLoader(testset, batch_size=batch_size,\n",
        "                                         shuffle=False, num_workers=2)\n",
        "\n",
        "classes = ('plane', 'car', 'bird', 'cat',\n",
        "           'deer', 'dog', 'frog', 'horse', 'ship', 'truck')"
      ],
      "metadata": {
        "colab": {
          "base_uri": "https://localhost:8080/",
          "height": 103,
          "referenced_widgets": [
            "05fdfedb2b344e16ba444a42f492892e",
            "a89038c91bee4989af6bf57cf96f8d14",
            "91949cc8a7174e18b0de81a21168bd86",
            "d5890277151c41bf8786557a3ff0722d",
            "ca106185da074e0aae976a14da919629",
            "1955ab3b499a482fac24ce5a84ae7f63",
            "610ef949fdae4c6aa8c726e8d9fe48bf",
            "858cf601e7b84df3a86129f48553a7f5",
            "bb1a61fa6d5b46a9b21e7acab1ed5f05",
            "36011eb2087c48f4a23ab95b33a6f2b5",
            "153cc1f8a5a94cf8a4d0c0d8074702f0"
          ]
        },
        "id": "ET7hxzUEHi2d",
        "outputId": "2f3f46e8-244d-4dc0-c2c6-aa9186d10e28"
      },
      "execution_count": 2,
      "outputs": [
        {
          "output_type": "stream",
          "name": "stdout",
          "text": [
            "Downloading https://www.cs.toronto.edu/~kriz/cifar-10-python.tar.gz to ./data/cifar-10-python.tar.gz\n"
          ]
        },
        {
          "output_type": "display_data",
          "data": {
            "text/plain": [
              "  0%|          | 0/170498071 [00:00<?, ?it/s]"
            ],
            "application/vnd.jupyter.widget-view+json": {
              "version_major": 2,
              "version_minor": 0,
              "model_id": "05fdfedb2b344e16ba444a42f492892e"
            }
          },
          "metadata": {}
        },
        {
          "output_type": "stream",
          "name": "stdout",
          "text": [
            "Extracting ./data/cifar-10-python.tar.gz to ./data\n",
            "Files already downloaded and verified\n"
          ]
        }
      ]
    },
    {
      "cell_type": "code",
      "source": [
        "device = torch.device('cuda:0' if torch.cuda.is_available() else 'cpu')\n",
        "print(device)"
      ],
      "metadata": {
        "colab": {
          "base_uri": "https://localhost:8080/"
        },
        "id": "i7uJM_mDHkms",
        "outputId": "c56df22a-85aa-4c6e-bb98-a496d2de1072"
      },
      "execution_count": 3,
      "outputs": [
        {
          "output_type": "stream",
          "name": "stdout",
          "text": [
            "cuda:0\n"
          ]
        }
      ]
    },
    {
      "cell_type": "code",
      "source": [
        "class BasicBlock(nn.Module):\n",
        "  def __init__(self, in_channels, out_channels):\n",
        "    assert(in_channels == out_channels or in_channels * 2 == out_channels)\n",
        "    super().__init__()\n",
        "    self.conv1 = nn.Conv2d(in_channels, out_channels, 3, stride=(out_channels // in_channels), padding=1, bias=False)\n",
        "    self.bn1 = nn.BatchNorm2d(out_channels)\n",
        "    self.relu = nn.ReLU()\n",
        "    self.conv2 = nn.Conv2d(out_channels, out_channels, 3, stride=1, padding=1, bias=False)\n",
        "    self.bn2 = nn.BatchNorm2d(out_channels)\n",
        "    if in_channels * 2 == out_channels:\n",
        "      self.downsample = nn.Sequential(\n",
        "          nn.Conv2d(in_channels, out_channels, 1, stride=2, bias=False),\n",
        "          nn.BatchNorm2d(out_channels))\n",
        "    else:\n",
        "      self.downsample = None\n",
        "  \n",
        "  def forward(self, x):\n",
        "    residual = x\n",
        "    x = self.relu(self.bn1(self.conv1(x)))\n",
        "    x = self.bn2(self.conv2(x))\n",
        "    if self.downsample:\n",
        "      residual = self.downsample(residual)\n",
        "    return self.relu(residual + x)"
      ],
      "metadata": {
        "id": "NYfQowbFHmfh"
      },
      "execution_count": 4,
      "outputs": []
    },
    {
      "cell_type": "code",
      "source": [
        "class Resnet18(nn.Module):\n",
        "  def __init__(self):\n",
        "    super().__init__()\n",
        "    self.conv1 = nn.Conv2d(3, 64, 7, stride=2, padding=3, bias=False)\n",
        "    self.bn1 = nn.BatchNorm2d(64)\n",
        "    self.relu = nn.ReLU()\n",
        "    self.maxpool = nn.MaxPool2d(3, stride=2, padding=1)\n",
        "    self.layer1 = nn.Sequential(\n",
        "        BasicBlock(64, 64),\n",
        "        BasicBlock(64, 64))\n",
        "    self.layer2 = nn.Sequential(\n",
        "        BasicBlock(64, 128),\n",
        "        BasicBlock(128, 128))\n",
        "    self.layer3 = nn.Sequential(\n",
        "        BasicBlock(128, 256),\n",
        "        BasicBlock(256, 256))\n",
        "    self.layer4 = nn.Sequential(\n",
        "        BasicBlock(256, 512),\n",
        "        BasicBlock(512, 512))\n",
        "    self.avgpool = nn.AdaptiveAvgPool2d((1, 1))\n",
        "    self.fc = nn.Linear(512, 1000)\n",
        "\n",
        "  def forward(self, x):\n",
        "    x = self.maxpool(self.relu(self.bn1(self.conv1(x))))\n",
        "    x = self.avgpool(self.layer4(self.layer3(self.layer2(self.layer1(x)))))\n",
        "    x = torch.flatten(x, 1)\n",
        "    x = self.fc(x)\n",
        "    return x\n",
        "\n",
        "net = Resnet18()\n",
        "net.to(device);"
      ],
      "metadata": {
        "id": "5Nh8o5YbHwmI"
      },
      "execution_count": 7,
      "outputs": []
    },
    {
      "cell_type": "code",
      "source": [
        "criterion = nn.CrossEntropyLoss()\n",
        "optimizer = optim.Adam(net.parameters(), lr=0.001)"
      ],
      "metadata": {
        "id": "SKMYBPU6Hyj7"
      },
      "execution_count": 8,
      "outputs": []
    },
    {
      "cell_type": "code",
      "source": [
        "train_losses, val_losses = [], []\n",
        "lowest_val_loss = np.inf\n",
        "PATH = './cifar_net.pth'"
      ],
      "metadata": {
        "id": "_BIC_qRIIHKr"
      },
      "execution_count": 9,
      "outputs": []
    },
    {
      "cell_type": "code",
      "source": [
        "for epoch in range(32):\n",
        "    epoch_train_losses, epoch_val_losses = [], []\n",
        "    for x, y in trainloader:\n",
        "        x, y = x.to(device), y.to(device)\n",
        "        pred = net(x)\n",
        "        loss = criterion(pred, y)\n",
        "        optimizer.zero_grad()\n",
        "        loss.backward()\n",
        "        optimizer.step()\n",
        "        epoch_train_losses.append(loss.detach().cpu().numpy())\n",
        "    \n",
        "    correct = 0\n",
        "    total = 0\n",
        "    for x, y in valloader:\n",
        "        x, y = x.to(device), y.to(device)\n",
        "        pred = net(x)\n",
        "        loss = criterion(pred, y)\n",
        "        epoch_val_losses.append(loss.detach().cpu().numpy())\n",
        "\n",
        "        _, predicted = torch.max(pred.data, 1)\n",
        "        total += y.size(0)\n",
        "        correct += (predicted == y).sum().item()\n",
        "    \n",
        "    avg_train_loss = np.mean(epoch_train_losses)\n",
        "    avg_val_loss = np.mean(epoch_val_losses)\n",
        "    train_losses.append(avg_train_loss)\n",
        "    val_losses.append(avg_val_loss)\n",
        "    print(f'Epoch: {epoch}, Training Loss: {avg_train_loss}, Validation Loss: {avg_val_loss}, Validation Accuracy: {100 * correct // total} %')\n",
        "    if avg_val_loss < lowest_val_loss:\n",
        "      lowest_val_loss = avg_val_loss\n",
        "      torch.save(net.state_dict(), PATH)\n",
        "            \n",
        "print('Finished Training')"
      ],
      "metadata": {
        "colab": {
          "base_uri": "https://localhost:8080/"
        },
        "id": "slnC-1e_IITl",
        "outputId": "70398d34-239d-4880-e5d2-b9a7f5dbef44"
      },
      "execution_count": 10,
      "outputs": [
        {
          "output_type": "stream",
          "name": "stdout",
          "text": [
            "Epoch: 0, Training Loss: 1.5644307136535645, Validation Loss: 1.2965363264083862, Validation Accuracy: 54 %\n",
            "Epoch: 1, Training Loss: 1.1905932426452637, Validation Loss: 1.0887458324432373, Validation Accuracy: 60 %\n",
            "Epoch: 2, Training Loss: 1.0237760543823242, Validation Loss: 0.9488751292228699, Validation Accuracy: 66 %\n",
            "Epoch: 3, Training Loss: 0.9162572622299194, Validation Loss: 0.8630196452140808, Validation Accuracy: 70 %\n",
            "Epoch: 4, Training Loss: 0.8409570455551147, Validation Loss: 0.7965028285980225, Validation Accuracy: 73 %\n",
            "Epoch: 5, Training Loss: 0.7798221707344055, Validation Loss: 0.7415028214454651, Validation Accuracy: 75 %\n",
            "Epoch: 6, Training Loss: 0.7446063756942749, Validation Loss: 0.7523667812347412, Validation Accuracy: 74 %\n",
            "Epoch: 7, Training Loss: 0.691513180732727, Validation Loss: 0.7283802032470703, Validation Accuracy: 73 %\n",
            "Epoch: 8, Training Loss: 0.6591358780860901, Validation Loss: 0.7172034382820129, Validation Accuracy: 74 %\n",
            "Epoch: 9, Training Loss: 0.6235868334770203, Validation Loss: 0.6214941143989563, Validation Accuracy: 78 %\n",
            "Epoch: 10, Training Loss: 0.6017874479293823, Validation Loss: 0.6385816931724548, Validation Accuracy: 77 %\n",
            "Epoch: 11, Training Loss: 0.5803958177566528, Validation Loss: 0.6501131653785706, Validation Accuracy: 76 %\n",
            "Epoch: 12, Training Loss: 0.5502759218215942, Validation Loss: 0.6159844994544983, Validation Accuracy: 79 %\n",
            "Epoch: 13, Training Loss: 0.5353286862373352, Validation Loss: 0.6359307765960693, Validation Accuracy: 79 %\n",
            "Epoch: 14, Training Loss: 0.5191305875778198, Validation Loss: 0.5891396403312683, Validation Accuracy: 79 %\n",
            "Epoch: 15, Training Loss: 0.49418336153030396, Validation Loss: 0.5629892945289612, Validation Accuracy: 81 %\n",
            "Epoch: 16, Training Loss: 0.48246005177497864, Validation Loss: 0.9106099009513855, Validation Accuracy: 73 %\n",
            "Epoch: 17, Training Loss: 0.49352318048477173, Validation Loss: 0.5634297728538513, Validation Accuracy: 80 %\n",
            "Epoch: 18, Training Loss: 0.45240116119384766, Validation Loss: 0.5546984672546387, Validation Accuracy: 80 %\n",
            "Epoch: 19, Training Loss: 0.4440246522426605, Validation Loss: 0.5614922642707825, Validation Accuracy: 82 %\n",
            "Epoch: 20, Training Loss: 0.42639675736427307, Validation Loss: 0.566291332244873, Validation Accuracy: 80 %\n",
            "Epoch: 21, Training Loss: 0.4234442412853241, Validation Loss: 0.5385828018188477, Validation Accuracy: 82 %\n",
            "Epoch: 22, Training Loss: 0.40394461154937744, Validation Loss: 0.5637377500534058, Validation Accuracy: 82 %\n",
            "Epoch: 23, Training Loss: 0.3924194872379303, Validation Loss: 0.5590890645980835, Validation Accuracy: 81 %\n",
            "Epoch: 24, Training Loss: 0.38028714060783386, Validation Loss: 0.5655243992805481, Validation Accuracy: 81 %\n",
            "Epoch: 25, Training Loss: 0.3694024980068207, Validation Loss: 0.5086387395858765, Validation Accuracy: 83 %\n",
            "Epoch: 26, Training Loss: 0.360655277967453, Validation Loss: 0.545909583568573, Validation Accuracy: 81 %\n",
            "Epoch: 27, Training Loss: 0.3699517548084259, Validation Loss: 0.5219788551330566, Validation Accuracy: 82 %\n",
            "Epoch: 28, Training Loss: 0.3539784848690033, Validation Loss: 0.5344977378845215, Validation Accuracy: 82 %\n",
            "Epoch: 29, Training Loss: 0.3327822983264923, Validation Loss: 0.5428353548049927, Validation Accuracy: 82 %\n",
            "Epoch: 30, Training Loss: 0.3218420147895813, Validation Loss: 0.5124433636665344, Validation Accuracy: 83 %\n",
            "Epoch: 31, Training Loss: 0.3152881860733032, Validation Loss: 0.5955120325088501, Validation Accuracy: 81 %\n",
            "Finished Training\n"
          ]
        }
      ]
    },
    {
      "cell_type": "code",
      "source": [
        "plt.plot(train_losses)\n",
        "plt.plot(val_losses)\n",
        "plt.show();"
      ],
      "metadata": {
        "colab": {
          "base_uri": "https://localhost:8080/",
          "height": 265
        },
        "id": "7pyEJNYVIYqf",
        "outputId": "687b411d-ec7b-4b7a-ab81-355ba5d1f987"
      },
      "execution_count": 11,
      "outputs": [
        {
          "output_type": "display_data",
          "data": {
            "text/plain": [
              "<Figure size 432x288 with 1 Axes>"
            ],
            "image/png": "[encoded data removed]"
          },
          "metadata": {
            "needs_background": "light"
          }
        }
      ]
    },
    {
      "cell_type": "code",
      "source": [
        "net = Resnet18()\n",
        "net.load_state_dict(torch.load('./cifar_net.pth'))\n",
        "net.to(device);"
      ],
      "metadata": {
        "id": "_Ld0_dt8Iazt"
      },
      "execution_count": 13,
      "outputs": []
    },
    {
      "cell_type": "code",
      "source": [
        "correct = 0\n",
        "total = 0\n",
        "with torch.no_grad():\n",
        "    for data in testloader:\n",
        "        images, labels = data[0].to(device), data[1].to(device)\n",
        "        outputs = net(images)\n",
        "        _, predicted = torch.max(outputs.data, 1)\n",
        "        total += labels.size(0)\n",
        "        correct += (predicted == labels).sum().item()\n",
        "\n",
        "print(f'Accuracy of the network on the 10000 test images: {100 * correct // total} %')"
      ],
      "metadata": {
        "colab": {
          "base_uri": "https://localhost:8080/"
        },
        "id": "DCxL5YSAIeeG",
        "outputId": "0b06c77e-114e-4f63-cbaf-c6e6d82cb64c"
      },
      "execution_count": 14,
      "outputs": [
        {
          "output_type": "stream",
          "name": "stdout",
          "text": [
            "Accuracy of the network on the 10000 test images: 82 %\n"
          ]
        }
      ]
    },
    {
      "cell_type": "code",
      "source": [],
      "metadata": {
        "id": "TQgbVcjV0g_t"
      },
      "execution_count": null,
      "outputs": []
    }
  ]
}