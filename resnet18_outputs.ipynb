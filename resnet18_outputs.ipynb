{
  "cells": [
    {
      "cell_type": "code",
      "execution_count": 1,
      "metadata": {
        "id": "Trx-qJtg-uXu"
      },
      "outputs": [],
      "source": [
        "import numpy as np\n",
        "import matplotlib.pyplot as plt\n",
        "import torch\n",
        "import torch.nn as nn\n",
        "import torch.nn.functional as F\n",
        "import torch.optim as optim\n",
        "import torchvision\n",
        "import torchvision.models as models\n",
        "import torchvision.transforms as transforms"
      ]
    },
    {
      "cell_type": "code",
      "execution_count": 2,
      "metadata": {
        "colab": {
          "base_uri": "https://localhost:8080/",
          "height": 103,
          "referenced_widgets": [
            "011bd94ec035468593dc6380029ee397",
            "385dc9ad730c4038a856c60554d0f7fb",
            "0a4a32981ca44b26beddb7c8cee126de",
            "4f028f18abc54fb7bab5000f72a71725",
            "30c44eff879e4f6ebfe9d0cf32c8cde9",
            "db8d00bbab4f48cb9d22be4e67a7156a",
            "3f3d12e694b2402d9f0df5e2f57e8e8e",
            "a15dba842b2e40e6b60c5de8a3b82564",
            "69e2a0137b6a49e49e0a07a2c5d5be71",
            "abdb3c68aa2e41c5af6d9d816565e495",
            "b993e2f53e754c32b71b13d31de565b9"
          ]
        },
        "id": "ET7hxzUEHi2d",
        "outputId": "27be391f-23ff-4bcd-b553-c5574308943a"
      },
      "outputs": [
        {
          "name": "stdout",
          "output_type": "stream",
          "text": [
            "Downloading https://www.cs.toronto.edu/~kriz/cifar-10-python.tar.gz to ./data/cifar-10-python.tar.gz\n"
          ]
        },
        {
          "data": {
            "application/vnd.jupyter.widget-view+json": {
              "model_id": "011bd94ec035468593dc6380029ee397",
              "version_major": 2,
              "version_minor": 0
            },
            "text/plain": [
              "  0%|          | 0/170498071 [00:00<?, ?it/s]"
            ]
          },
          "metadata": {},
          "output_type": "display_data"
        },
        {
          "name": "stdout",
          "output_type": "stream",
          "text": [
            "Extracting ./data/cifar-10-python.tar.gz to ./data\n",
            "Files already downloaded and verified\n"
          ]
        }
      ],
      "source": [
        "mean = (0.485, 0.456, 0.406)\n",
        "std = (0.229, 0.224, 0.225)\n",
        "\n",
        "train_transform = transforms.Compose([\n",
        "    transforms.ToTensor(),\n",
        "    transforms.Normalize(mean, std),\n",
        "    transforms.RandomHorizontalFlip(0.5),\n",
        "    transforms.RandomCrop(32, 4)])\n",
        "\n",
        "test_transform = transforms.Compose([\n",
        "    transforms.ToTensor(),\n",
        "    transforms.Normalize(mean, std)\n",
        "])\n",
        "\n",
        "batch_size = 64\n",
        "\n",
        "trainset = torchvision.datasets.CIFAR10(root='./data', train=True,\n",
        "                                        download=True, transform=train_transform)\n",
        "\n",
        "train, val = torch.utils.data.random_split(trainset, [48000, 2000])\n",
        "trainloader = torch.utils.data.DataLoader(train, batch_size=batch_size,\n",
        "                                          shuffle=True, num_workers=2)\n",
        "valloader = torch.utils.data.DataLoader(val, batch_size=batch_size,\n",
        "                                          shuffle=True, num_workers=2)\n",
        "\n",
        "testset = torchvision.datasets.CIFAR10(root='./data', train=False,\n",
        "                                       download=True, transform=test_transform)\n",
        "testloader = torch.utils.data.DataLoader(testset, batch_size=batch_size,\n",
        "                                         shuffle=False, num_workers=2)\n",
        "\n",
        "classes = ('plane', 'car', 'bird', 'cat',\n",
        "           'deer', 'dog', 'frog', 'horse', 'ship', 'truck')"
      ]
    },
    {
      "cell_type": "code",
      "execution_count": 3,
      "metadata": {
        "colab": {
          "base_uri": "https://localhost:8080/"
        },
        "id": "i7uJM_mDHkms",
        "outputId": "6182ee0b-9627-4f33-8d68-c84ecb46cc84"
      },
      "outputs": [
        {
          "name": "stdout",
          "output_type": "stream",
          "text": [
            "cuda:0\n"
          ]
        }
      ],
      "source": [
        "device = torch.device('cuda:0' if torch.cuda.is_available() else 'cpu')\n",
        "print(device)"
      ]
    },
    {
      "cell_type": "code",
      "execution_count": 4,
      "metadata": {
        "id": "NYfQowbFHmfh"
      },
      "outputs": [],
      "source": [
        "class BasicBlock(nn.Module):\n",
        "  def __init__(self, in_channels, out_channels):\n",
        "    assert(in_channels == out_channels or in_channels * 2 == out_channels)\n",
        "    super().__init__()\n",
        "    self.conv1 = nn.Conv2d(in_channels, out_channels, 3, stride=(out_channels // in_channels), padding=1, bias=False)\n",
        "    self.bn1 = nn.BatchNorm2d(out_channels)\n",
        "    self.relu = nn.ReLU()\n",
        "    self.conv2 = nn.Conv2d(out_channels, out_channels, 3, stride=1, padding=1, bias=False)\n",
        "    self.bn2 = nn.BatchNorm2d(out_channels)\n",
        "    if in_channels * 2 == out_channels:\n",
        "      self.downsample = nn.Sequential(\n",
        "          nn.Conv2d(in_channels, out_channels, 1, stride=2, bias=False),\n",
        "          nn.BatchNorm2d(out_channels))\n",
        "    else:\n",
        "      self.downsample = None\n",
        "  \n",
        "  def forward(self, x):\n",
        "    residual = x\n",
        "    x = self.relu(self.bn1(self.conv1(x)))\n",
        "    x = self.bn2(self.conv2(x))\n",
        "    if self.downsample:\n",
        "      residual = self.downsample(residual)\n",
        "    return self.relu(residual + x)"
      ]
    },
    {
      "cell_type": "code",
      "execution_count": 5,
      "metadata": {
        "id": "5Nh8o5YbHwmI"
      },
      "outputs": [],
      "source": [
        "class Resnet18(nn.Module):\n",
        "  def __init__(self):\n",
        "    super().__init__()\n",
        "    self.conv1 = nn.Conv2d(3, 64, 7, stride=2, padding=3, bias=False)\n",
        "    self.bn1 = nn.BatchNorm2d(64)\n",
        "    self.relu = nn.ReLU()\n",
        "    self.maxpool = nn.MaxPool2d(3, stride=2, padding=1)\n",
        "    self.layer1 = nn.Sequential(\n",
        "        BasicBlock(64, 64),\n",
        "        BasicBlock(64, 64))\n",
        "    self.layer2 = nn.Sequential(\n",
        "        BasicBlock(64, 128),\n",
        "        BasicBlock(128, 128))\n",
        "    self.layer3 = nn.Sequential(\n",
        "        BasicBlock(128, 256),\n",
        "        BasicBlock(256, 256))\n",
        "    self.layer4 = nn.Sequential(\n",
        "        BasicBlock(256, 512),\n",
        "        BasicBlock(512, 512))\n",
        "    self.avgpool = nn.AdaptiveAvgPool2d((1, 1))\n",
        "    self.fc = nn.Linear(512, 10)\n",
        "\n",
        "  def forward(self, x):\n",
        "    x = self.maxpool(self.relu(self.bn1(self.conv1(x))))\n",
        "    x = self.avgpool(self.layer4(self.layer3(self.layer2(self.layer1(x)))))\n",
        "    x = torch.flatten(x, 1)\n",
        "    x = self.fc(x)\n",
        "    return x\n",
        "\n",
        "net = Resnet18()\n",
        "net.to(device);"
      ]
    },
    {
      "cell_type": "code",
      "execution_count": 6,
      "metadata": {
        "id": "SKMYBPU6Hyj7"
      },
      "outputs": [],
      "source": [
        "criterion = nn.CrossEntropyLoss()\n",
        "optimizer = optim.Adam(net.parameters(), lr=0.001)"
      ]
    },
    {
      "cell_type": "code",
      "execution_count": 7,
      "metadata": {
        "id": "_BIC_qRIIHKr"
      },
      "outputs": [],
      "source": [
        "train_losses, val_losses = [], []\n",
        "lowest_val_loss = np.inf\n",
        "PATH = './cifar_net.pth'"
      ]
    },
    {
      "cell_type": "code",
      "execution_count": 8,
      "metadata": {
        "colab": {
          "base_uri": "https://localhost:8080/"
        },
        "id": "slnC-1e_IITl",
        "outputId": "237e299b-7700-48e3-e97b-2edb4fb720a7"
      },
      "outputs": [
        {
          "name": "stdout",
          "output_type": "stream",
          "text": [
            "Epoch: 0, Training Loss: 1.5178054571151733, Validation Loss: 1.2902817726135254, Validation Accuracy: 53 %\n",
            "Epoch: 1, Training Loss: 1.1677258014678955, Validation Loss: 1.0645533800125122, Validation Accuracy: 61 %\n",
            "Epoch: 2, Training Loss: 1.0129634141921997, Validation Loss: 0.9630230665206909, Validation Accuracy: 66 %\n",
            "Epoch: 3, Training Loss: 0.9022483825683594, Validation Loss: 0.8625690340995789, Validation Accuracy: 69 %\n",
            "Epoch: 4, Training Loss: 0.827282726764679, Validation Loss: 0.8555618524551392, Validation Accuracy: 69 %\n",
            "Epoch: 5, Training Loss: 0.7638097405433655, Validation Loss: 0.7535189390182495, Validation Accuracy: 73 %\n",
            "Epoch: 6, Training Loss: 0.7248020172119141, Validation Loss: 0.7340309619903564, Validation Accuracy: 74 %\n",
            "Epoch: 7, Training Loss: 0.6800694465637207, Validation Loss: 0.7251150608062744, Validation Accuracy: 74 %\n",
            "Epoch: 8, Training Loss: 0.6452376842498779, Validation Loss: 0.7073342800140381, Validation Accuracy: 75 %\n",
            "Epoch: 9, Training Loss: 0.6149369478225708, Validation Loss: 0.6628108620643616, Validation Accuracy: 77 %\n",
            "Epoch: 10, Training Loss: 0.5935528874397278, Validation Loss: 0.6481765508651733, Validation Accuracy: 78 %\n",
            "Epoch: 11, Training Loss: 0.5663960576057434, Validation Loss: 0.6363641619682312, Validation Accuracy: 78 %\n",
            "Epoch: 12, Training Loss: 0.5501740574836731, Validation Loss: 0.618908166885376, Validation Accuracy: 79 %\n",
            "Epoch: 13, Training Loss: 0.522287905216217, Validation Loss: 0.6105874180793762, Validation Accuracy: 79 %\n",
            "Epoch: 14, Training Loss: 0.5171474814414978, Validation Loss: 0.6287105083465576, Validation Accuracy: 78 %\n",
            "Epoch: 15, Training Loss: 0.5021939277648926, Validation Loss: 0.6017156839370728, Validation Accuracy: 79 %\n",
            "Epoch: 16, Training Loss: 0.49129027128219604, Validation Loss: 0.6169558763504028, Validation Accuracy: 79 %\n",
            "Epoch: 17, Training Loss: 0.46429842710494995, Validation Loss: 0.5238896608352661, Validation Accuracy: 82 %\n",
            "Epoch: 18, Training Loss: 0.4474622309207916, Validation Loss: 0.5457454323768616, Validation Accuracy: 82 %\n",
            "Epoch: 19, Training Loss: 0.44236353039741516, Validation Loss: 0.5819792747497559, Validation Accuracy: 82 %\n",
            "Epoch: 20, Training Loss: 0.42433854937553406, Validation Loss: 0.565786600112915, Validation Accuracy: 82 %\n",
            "Epoch: 21, Training Loss: 0.4086122214794159, Validation Loss: 0.5260573625564575, Validation Accuracy: 82 %\n",
            "Epoch: 22, Training Loss: 0.3937642276287079, Validation Loss: 0.5016807317733765, Validation Accuracy: 83 %\n",
            "Epoch: 23, Training Loss: 0.3924558460712433, Validation Loss: 0.5636665225028992, Validation Accuracy: 83 %\n",
            "Epoch: 24, Training Loss: 0.37259936332702637, Validation Loss: 0.5445161461830139, Validation Accuracy: 82 %\n",
            "Epoch: 25, Training Loss: 0.3658701181411743, Validation Loss: 0.5511457920074463, Validation Accuracy: 82 %\n",
            "Epoch: 26, Training Loss: 0.3605946898460388, Validation Loss: 0.49608975648880005, Validation Accuracy: 84 %\n",
            "Epoch: 27, Training Loss: 0.3447989225387573, Validation Loss: 0.5326182842254639, Validation Accuracy: 83 %\n",
            "Epoch: 28, Training Loss: 0.339109867811203, Validation Loss: 0.5021035671234131, Validation Accuracy: 83 %\n",
            "Epoch: 29, Training Loss: 0.329983115196228, Validation Loss: 0.556635856628418, Validation Accuracy: 83 %\n",
            "Epoch: 30, Training Loss: 0.3271273970603943, Validation Loss: 0.5119397044181824, Validation Accuracy: 84 %\n",
            "Epoch: 31, Training Loss: 0.3231033384799957, Validation Loss: 0.5432168245315552, Validation Accuracy: 82 %\n",
            "Finished Training\n"
          ]
        }
      ],
      "source": [
        "for epoch in range(32):\n",
        "    epoch_train_losses, epoch_val_losses = [], []\n",
        "    for x, y in trainloader:\n",
        "        x, y = x.to(device), y.to(device)\n",
        "        pred = net(x)\n",
        "        loss = criterion(pred, y)\n",
        "        optimizer.zero_grad()\n",
        "        loss.backward()\n",
        "        optimizer.step()\n",
        "        epoch_train_losses.append(loss.detach().cpu().numpy())\n",
        "    \n",
        "    correct = 0\n",
        "    total = 0\n",
        "    for x, y in valloader:\n",
        "        x, y = x.to(device), y.to(device)\n",
        "        pred = net(x)\n",
        "        loss = criterion(pred, y)\n",
        "        epoch_val_losses.append(loss.detach().cpu().numpy())\n",
        "\n",
        "        _, predicted = torch.max(pred.data, 1)\n",
        "        total += y.size(0)\n",
        "        correct += (predicted == y).sum().item()\n",
        "    \n",
        "    avg_train_loss = np.mean(epoch_train_losses)\n",
        "    avg_val_loss = np.mean(epoch_val_losses)\n",
        "    train_losses.append(avg_train_loss)\n",
        "    val_losses.append(avg_val_loss)\n",
        "    print(f'Epoch: {epoch}, Training Loss: {avg_train_loss}, Validation Loss: {avg_val_loss}, Validation Accuracy: {100 * correct // total} %')\n",
        "    if avg_val_loss < lowest_val_loss:\n",
        "      lowest_val_loss = avg_val_loss\n",
        "      torch.save(net.state_dict(), PATH)\n",
        "            \n",
        "print('Finished Training')"
      ]
    },
    {
      "cell_type": "code",
      "execution_count": 9,
      "metadata": {
        "colab": {
          "base_uri": "https://localhost:8080/",
          "height": 265
        },
        "id": "7pyEJNYVIYqf",
        "outputId": "aa1460b9-a148-429b-8578-02847985f851"
      },
      "outputs": [
        {
          "data": {
            "image/png": "[encoded data removed]",
            "text/plain": [
              "<Figure size 432x288 with 1 Axes>"
            ]
          },
          "metadata": {
            "needs_background": "light"
          },
          "output_type": "display_data"
        }
      ],
      "source": [
        "plt.plot(train_losses)\n",
        "plt.plot(val_losses)\n",
        "plt.show();"
      ]
    },
    {
      "cell_type": "code",
      "execution_count": 10,
      "metadata": {
        "id": "_Ld0_dt8Iazt"
      },
      "outputs": [],
      "source": [
        "net = Resnet18()\n",
        "net.load_state_dict(torch.load('./cifar_net.pth'))\n",
        "net.to(device);"
      ]
    },
    {
      "cell_type": "code",
      "execution_count": 11,
      "metadata": {
        "colab": {
          "base_uri": "https://localhost:8080/"
        },
        "id": "DCxL5YSAIeeG",
        "outputId": "e8f75aa0-4847-494e-ae06-1b19ce5263e5"
      },
      "outputs": [
        {
          "name": "stdout",
          "output_type": "stream",
          "text": [
            "Accuracy of the network on the 10000 test images: 83 %\n"
          ]
        }
      ],
      "source": [
        "correct = 0\n",
        "total = 0\n",
        "with torch.no_grad():\n",
        "    for data in testloader:\n",
        "        images, labels = data[0].to(device), data[1].to(device)\n",
        "        outputs = net(images)\n",
        "        _, predicted = torch.max(outputs.data, 1)\n",
        "        total += labels.size(0)\n",
        "        correct += (predicted == labels).sum().item()\n",
        "\n",
        "print(f'Accuracy of the network on the 10000 test images: {100 * correct // total} %')"
      ]
    },
    {
      "cell_type": "code",
      "execution_count": null,
      "metadata": {
        "id": "TQgbVcjV0g_t"
      },
      "outputs": [],
      "source": []
    }
  ],
  "metadata": {
    "accelerator": "GPU",
    "colab": {
      "provenance": []
    },
    "gpuClass": "standard",
    "kernelspec": {
      "display_name": "Python 3",
      "name": "python3"
    },
    "language_info": {
      "name": "python"
    },
    "widgets": {
      "application/vnd.jupyter.widget-state+json": {
        "011bd94ec035468593dc6380029ee397": {
          "model_module": "@jupyter-widgets/controls",
          "model_module_version": "1.5.0",
          "model_name": "HBoxModel",
          "state": {
            "_dom_classes": [],
            "_model_module": "@jupyter-widgets/controls",
            "_model_module_version": "1.5.0",
            "_model_name": "HBoxModel",
            "_view_count": null,
            "_view_module": "@jupyter-widgets/controls",
            "_view_module_version": "1.5.0",
            "_view_name": "HBoxView",
            "box_style": "",
            "children": [
              "IPY_MODEL_385dc9ad730c4038a856c60554d0f7fb",
              "IPY_MODEL_0a4a32981ca44b26beddb7c8cee126de",
              "IPY_MODEL_4f028f18abc54fb7bab5000f72a71725"
            ],
            "layout": "IPY_MODEL_30c44eff879e4f6ebfe9d0cf32c8cde9"
          }
        },
        "0a4a32981ca44b26beddb7c8cee126de": {
          "model_module": "@jupyter-widgets/controls",
          "model_module_version": "1.5.0",
          "model_name": "FloatProgressModel",
          "state": {
            "_dom_classes": [],
            "_model_module": "@jupyter-widgets/controls",
            "_model_module_version": "1.5.0",
            "_model_name": "FloatProgressModel",
            "_view_count": null,
            "_view_module": "@jupyter-widgets/controls",
            "_view_module_version": "1.5.0",
            "_view_name": "ProgressView",
            "bar_style": "success",
            "description": "",
            "description_tooltip": null,
            "layout": "IPY_MODEL_a15dba842b2e40e6b60c5de8a3b82564",
            "max": 170498071,
            "min": 0,
            "orientation": "horizontal",
            "style": "IPY_MODEL_69e2a0137b6a49e49e0a07a2c5d5be71",
            "value": 170498071
          }
        },
        "30c44eff879e4f6ebfe9d0cf32c8cde9": {
          "model_module": "@jupyter-widgets/base",
          "model_module_version": "1.2.0",
          "model_name": "LayoutModel",
          "state": {
            "_model_module": "@jupyter-widgets/base",
            "_model_module_version": "1.2.0",
            "_model_name": "LayoutModel",
            "_view_count": null,
            "_view_module": "@jupyter-widgets/base",
            "_view_module_version": "1.2.0",
            "_view_name": "LayoutView",
            "align_content": null,
            "align_items": null,
            "align_self": null,
            "border": null,
            "bottom": null,
            "display": null,
            "flex": null,
            "flex_flow": null,
            "grid_area": null,
            "grid_auto_columns": null,
            "grid_auto_flow": null,
            "grid_auto_rows": null,
            "grid_column": null,
            "grid_gap": null,
            "grid_row": null,
            "grid_template_areas": null,
            "grid_template_columns": null,
            "grid_template_rows": null,
            "height": null,
            "justify_content": null,
            "justify_items": null,
            "left": null,
            "margin": null,
            "max_height": null,
            "max_width": null,
            "min_height": null,
            "min_width": null,
            "object_fit": null,
            "object_position": null,
            "order": null,
            "overflow": null,
            "overflow_x": null,
            "overflow_y": null,
            "padding": null,
            "right": null,
            "top": null,
            "visibility": null,
            "width": null
          }
        },
        "385dc9ad730c4038a856c60554d0f7fb": {
          "model_module": "@jupyter-widgets/controls",
          "model_module_version": "1.5.0",
          "model_name": "HTMLModel",
          "state": {
            "_dom_classes": [],
            "_model_module": "@jupyter-widgets/controls",
            "_model_module_version": "1.5.0",
            "_model_name": "HTMLModel",
            "_view_count": null,
            "_view_module": "@jupyter-widgets/controls",
            "_view_module_version": "1.5.0",
            "_view_name": "HTMLView",
            "description": "",
            "description_tooltip": null,
            "layout": "IPY_MODEL_db8d00bbab4f48cb9d22be4e67a7156a",
            "placeholder": "​",
            "style": "IPY_MODEL_3f3d12e694b2402d9f0df5e2f57e8e8e",
            "value": "100%"
          }
        },
        "3f3d12e694b2402d9f0df5e2f57e8e8e": {
          "model_module": "@jupyter-widgets/controls",
          "model_module_version": "1.5.0",
          "model_name": "DescriptionStyleModel",
          "state": {
            "_model_module": "@jupyter-widgets/controls",
            "_model_module_version": "1.5.0",
            "_model_name": "DescriptionStyleModel",
            "_view_count": null,
            "_view_module": "@jupyter-widgets/base",
            "_view_module_version": "1.2.0",
            "_view_name": "StyleView",
            "description_width": ""
          }
        },
        "4f028f18abc54fb7bab5000f72a71725": {
          "model_module": "@jupyter-widgets/controls",
          "model_module_version": "1.5.0",
          "model_name": "HTMLModel",
          "state": {
            "_dom_classes": [],
            "_model_module": "@jupyter-widgets/controls",
            "_model_module_version": "1.5.0",
            "_model_name": "HTMLModel",
            "_view_count": null,
            "_view_module": "@jupyter-widgets/controls",
            "_view_module_version": "1.5.0",
            "_view_name": "HTMLView",
            "description": "",
            "description_tooltip": null,
            "layout": "IPY_MODEL_abdb3c68aa2e41c5af6d9d816565e495",
            "placeholder": "​",
            "style": "IPY_MODEL_b993e2f53e754c32b71b13d31de565b9",
            "value": " 170498071/170498071 [00:01&lt;00:00, 114597020.80it/s]"
          }
        },
        "69e2a0137b6a49e49e0a07a2c5d5be71": {
          "model_module": "@jupyter-widgets/controls",
          "model_module_version": "1.5.0",
          "model_name": "ProgressStyleModel",
          "state": {
            "_model_module": "@jupyter-widgets/controls",
            "_model_module_version": "1.5.0",
            "_model_name": "ProgressStyleModel",
            "_view_count": null,
            "_view_module": "@jupyter-widgets/base",
            "_view_module_version": "1.2.0",
            "_view_name": "StyleView",
            "bar_color": null,
            "description_width": ""
          }
        },
        "a15dba842b2e40e6b60c5de8a3b82564": {
          "model_module": "@jupyter-widgets/base",
          "model_module_version": "1.2.0",
          "model_name": "LayoutModel",
          "state": {
            "_model_module": "@jupyter-widgets/base",
            "_model_module_version": "1.2.0",
            "_model_name": "LayoutModel",
            "_view_count": null,
            "_view_module": "@jupyter-widgets/base",
            "_view_module_version": "1.2.0",
            "_view_name": "LayoutView",
            "align_content": null,
            "align_items": null,
            "align_self": null,
            "border": null,
            "bottom": null,
            "display": null,
            "flex": null,
            "flex_flow": null,
            "grid_area": null,
            "grid_auto_columns": null,
            "grid_auto_flow": null,
            "grid_auto_rows": null,
            "grid_column": null,
            "grid_gap": null,
            "grid_row": null,
            "grid_template_areas": null,
            "grid_template_columns": null,
            "grid_template_rows": null,
            "height": null,
            "justify_content": null,
            "justify_items": null,
            "left": null,
            "margin": null,
            "max_height": null,
            "max_width": null,
            "min_height": null,
            "min_width": null,
            "object_fit": null,
            "object_position": null,
            "order": null,
            "overflow": null,
            "overflow_x": null,
            "overflow_y": null,
            "padding": null,
            "right": null,
            "top": null,
            "visibility": null,
            "width": null
          }
        },
        "abdb3c68aa2e41c5af6d9d816565e495": {
          "model_module": "@jupyter-widgets/base",
          "model_module_version": "1.2.0",
          "model_name": "LayoutModel",
          "state": {
            "_model_module": "@jupyter-widgets/base",
            "_model_module_version": "1.2.0",
            "_model_name": "LayoutModel",
            "_view_count": null,
            "_view_module": "@jupyter-widgets/base",
            "_view_module_version": "1.2.0",
            "_view_name": "LayoutView",
            "align_content": null,
            "align_items": null,
            "align_self": null,
            "border": null,
            "bottom": null,
            "display": null,
            "flex": null,
            "flex_flow": null,
            "grid_area": null,
            "grid_auto_columns": null,
            "grid_auto_flow": null,
            "grid_auto_rows": null,
            "grid_column": null,
            "grid_gap": null,
            "grid_row": null,
            "grid_template_areas": null,
            "grid_template_columns": null,
            "grid_template_rows": null,
            "height": null,
            "justify_content": null,
            "justify_items": null,
            "left": null,
            "margin": null,
            "max_height": null,
            "max_width": null,
            "min_height": null,
            "min_width": null,
            "object_fit": null,
            "object_position": null,
            "order": null,
            "overflow": null,
            "overflow_x": null,
            "overflow_y": null,
            "padding": null,
            "right": null,
            "top": null,
            "visibility": null,
            "width": null
          }
        },
        "b993e2f53e754c32b71b13d31de565b9": {
          "model_module": "@jupyter-widgets/controls",
          "model_module_version": "1.5.0",
          "model_name": "DescriptionStyleModel",
          "state": {
            "_model_module": "@jupyter-widgets/controls",
            "_model_module_version": "1.5.0",
            "_model_name": "DescriptionStyleModel",
            "_view_count": null,
            "_view_module": "@jupyter-widgets/base",
            "_view_module_version": "1.2.0",
            "_view_name": "StyleView",
            "description_width": ""
          }
        },
        "db8d00bbab4f48cb9d22be4e67a7156a": {
          "model_module": "@jupyter-widgets/base",
          "model_module_version": "1.2.0",
          "model_name": "LayoutModel",
          "state": {
            "_model_module": "@jupyter-widgets/base",
            "_model_module_version": "1.2.0",
            "_model_name": "LayoutModel",
            "_view_count": null,
            "_view_module": "@jupyter-widgets/base",
            "_view_module_version": "1.2.0",
            "_view_name": "LayoutView",
            "align_content": null,
            "align_items": null,
            "align_self": null,
            "border": null,
            "bottom": null,
            "display": null,
            "flex": null,
            "flex_flow": null,
            "grid_area": null,
            "grid_auto_columns": null,
            "grid_auto_flow": null,
            "grid_auto_rows": null,
            "grid_column": null,
            "grid_gap": null,
            "grid_row": null,
            "grid_template_areas": null,
            "grid_template_columns": null,
            "grid_template_rows": null,
            "height": null,
            "justify_content": null,
            "justify_items": null,
            "left": null,
            "margin": null,
            "max_height": null,
            "max_width": null,
            "min_height": null,
            "min_width": null,
            "object_fit": null,
            "object_position": null,
            "order": null,
            "overflow": null,
            "overflow_x": null,
            "overflow_y": null,
            "padding": null,
            "right": null,
            "top": null,
            "visibility": null,
            "width": null
          }
        }
      }
    }
  },
  "nbformat": 4,
  "nbformat_minor": 0
}
