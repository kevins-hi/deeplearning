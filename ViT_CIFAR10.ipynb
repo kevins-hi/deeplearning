{
  "nbformat": 4,
  "nbformat_minor": 0,
  "metadata": {
    "colab": {
      "provenance": []
    },
    "kernelspec": {
      "name": "python3",
      "display_name": "Python 3"
    },
    "language_info": {
      "name": "python"
    },
    "accelerator": "GPU",
    "gpuClass": "standard"
  },
  "cells": [
    {
      "cell_type": "code",
      "execution_count": 1,
      "metadata": {
        "id": "sPbBYZt_T_Vp"
      },
      "outputs": [],
      "source": [
        "import numpy as np\n",
        "import matplotlib.pyplot as plt\n",
        "import torch\n",
        "import torch.nn as nn\n",
        "import torch.nn.functional as F\n",
        "import torch.optim as optim\n",
        "import torchvision\n",
        "import torchvision.models as models\n",
        "import torchvision.transforms as transforms"
      ]
    },
    {
      "cell_type": "code",
      "source": [
        "PATH = './vit_net.pth'\n",
        "\n",
        "mean = (0.485, 0.456, 0.406)\n",
        "std = (0.229, 0.224, 0.225)\n",
        "\n",
        "train_transform = transforms.Compose([\n",
        "    transforms.ToTensor(),\n",
        "    transforms.Normalize(mean, std)])\n",
        "\n",
        "test_transform = transforms.Compose([\n",
        "    transforms.ToTensor(),\n",
        "    transforms.Normalize(mean, std)])\n",
        "\n",
        "batch_size = 64\n",
        "\n",
        "trainset = torchvision.datasets.CIFAR10(root='./data', train=True,\n",
        "                                        download=True, transform=train_transform)\n",
        "\n",
        "train, val = torch.utils.data.random_split(trainset, [48000, 2000])\n",
        "trainloader = torch.utils.data.DataLoader(train, batch_size=batch_size,\n",
        "                                          shuffle=True, num_workers=2)\n",
        "valloader = torch.utils.data.DataLoader(val, batch_size=batch_size,\n",
        "                                          shuffle=True, num_workers=2)\n",
        "\n",
        "testset = torchvision.datasets.CIFAR10(root='./data', train=False,\n",
        "                                       download=True, transform=test_transform)\n",
        "testloader = torch.utils.data.DataLoader(testset, batch_size=batch_size,\n",
        "                                         shuffle=False, num_workers=2)\n",
        "\n",
        "classes = ('plane', 'car', 'bird', 'cat',\n",
        "           'deer', 'dog', 'frog', 'horse', 'ship', 'truck')"
      ],
      "metadata": {
        "colab": {
          "base_uri": "https://localhost:8080/"
        },
        "id": "WCBTc_R6qj5E",
        "outputId": "da1e9901-9c47-43f4-9cad-b7657d278301"
      },
      "execution_count": 2,
      "outputs": [
        {
          "output_type": "stream",
          "name": "stdout",
          "text": [
            "Files already downloaded and verified\n",
            "Files already downloaded and verified\n"
          ]
        }
      ]
    },
    {
      "cell_type": "code",
      "source": [
        "class MultiheadAttention(nn.Module):\n",
        "  def __init__(self, in_features, num_heads=3, attn_drop=0.1, proj_drop=0.1, qkv_bias=True):\n",
        "    super().__init__()\n",
        "    self.in_features = in_features\n",
        "    self.num_heads = num_heads\n",
        "    self.attn_height = self.in_features // self.num_heads\n",
        "    self.qkv = nn.Linear(self.in_features, self.in_features * 3, bias=qkv_bias)\n",
        "    self.attn_drop = nn.Dropout(attn_drop)\n",
        "    self.proj = nn.Linear(self.in_features, self.in_features)\n",
        "    self.proj_drop = nn.Dropout(proj_drop)\n",
        "\n",
        "  def forward(self, x):\n",
        "    batch_size, seq_len, _ = x.shape # [64, 65, 192] -> [64, 65, 576] -> [64, 65, 3, 3, 64]\n",
        "    qkv = self.qkv(x).reshape(batch_size, seq_len, 3, self.num_heads, self.attn_height).permute(2, 0, 3, 1, 4) # [3, 64, 3, 65, 64]\n",
        "    q, k, v = qkv.unbind(0) # [64, 3, 65, 64]\n",
        "\n",
        "    k = k.transpose(-2, -1) # [64, 3, 64, 65]\n",
        "    attn = torch.matmul(q, k) # [64, 3, 65, 65]\n",
        "    attn = attn * (self.attn_height ** -0.5)\n",
        "    attn = self.attn_drop(F.softmax(attn, dim=-1))\n",
        "\n",
        "    out = torch.matmul(attn, v) # [64, 3, 65, 64]\n",
        "    out = out.permute(0, 2, 1, 3) # [64, 65, 3, 64]\n",
        "    out = out.flatten(2) # [64, 65, 192]\n",
        "\n",
        "    out = self.proj(out) \n",
        "    out = self.proj_drop(out)\n",
        "    return out"
      ],
      "metadata": {
        "id": "OI3Rdr6lSwHT"
      },
      "execution_count": 3,
      "outputs": []
    },
    {
      "cell_type": "code",
      "source": [
        "class EncoderBlock(nn.Module):\n",
        "  def __init__(self, in_features):\n",
        "    super().__init__()\n",
        "    self.ln1 = nn.LayerNorm(in_features)\n",
        "    self.msa = MultiheadAttention(in_features)\n",
        "    self.dropout = nn.Dropout(0.1)\n",
        "    self.ln2 = nn.LayerNorm(in_features)\n",
        "    self.mlp = nn.Sequential(\n",
        "        nn.Linear(in_features, 4 * in_features),\n",
        "        nn.GELU(),\n",
        "        nn.Dropout(0.1),\n",
        "        nn.Linear(4 * in_features, in_features),\n",
        "        nn.Dropout(0.1))\n",
        "\n",
        "  def forward(self, x):\n",
        "    residual = x\n",
        "    x = self.dropout(self.msa(self.ln1(x)))\n",
        "    x = residual + x\n",
        "    residual = x\n",
        "    x = self.mlp(self.ln2(x))\n",
        "    x = residual + x\n",
        "    return x"
      ],
      "metadata": {
        "id": "huUfl7MPriwy"
      },
      "execution_count": 4,
      "outputs": []
    },
    {
      "cell_type": "code",
      "source": [
        "class Encoder(nn.Module):\n",
        "  def __init__(self, in_features, num_blocks):\n",
        "    super().__init__()\n",
        "    self.dropout = nn.Dropout(0.1)\n",
        "    self.layers = nn.Sequential(*[EncoderBlock(in_features) for _ in range(num_blocks)])\n",
        "    self.ln = nn.LayerNorm(in_features)\n",
        "\n",
        "  def forward(self, x):\n",
        "    x = self.ln(self.layers(self.dropout(x)))\n",
        "    return x"
      ],
      "metadata": {
        "id": "7K6lxLXskhmB"
      },
      "execution_count": 5,
      "outputs": []
    },
    {
      "cell_type": "code",
      "source": [
        "class VisionTransformer(nn.Module):\n",
        "  def __init__(self):\n",
        "    super().__init__()\n",
        "    self.conv_proj = nn.Conv2d(3, 192, 4, stride=4)\n",
        "    self.class_token = nn.Parameter(torch.rand(1, 1, 192))\n",
        "    self.pos_embed = nn.Parameter(torch.rand(1, 65, 192))\n",
        "    self.encoder = Encoder(192, 12)\n",
        "    self.head = nn.Linear(192, 10)\n",
        "  \n",
        "  def forward(self, x):\n",
        "    x = self.conv_proj(x) # [64, 3, 32, 32] -> [64, 192, 8, 8]\n",
        "    x = x.flatten(2) # [64, 192, 64]\n",
        "    x = x.permute((0, 2, 1)) # [64, 64, 192]\n",
        "    class_token = self.class_token.repeat(x.shape[0], 1, 1)\n",
        "    x = torch.cat([class_token, x], dim=1) # [64, 65, 192]\n",
        "    pos_embed = self.pos_embed.repeat(x.shape[0], 1, 1)\n",
        "    x = x + pos_embed\n",
        "    x = self.encoder(x)\n",
        "    x = x[:,0,:] # [64, 1, 192]\n",
        "    x = torch.flatten(x, 1) # [64, 192]\n",
        "    x = self.head(x)\n",
        "    return x"
      ],
      "metadata": {
        "id": "njHfVx2ekKQQ"
      },
      "execution_count": 6,
      "outputs": []
    },
    {
      "cell_type": "code",
      "source": [
        "device = torch.device('cuda:0' if torch.cuda.is_available() else 'cpu')\n",
        "print(device)"
      ],
      "metadata": {
        "colab": {
          "base_uri": "https://localhost:8080/"
        },
        "id": "MDwzzBm_riPY",
        "outputId": "9f786b93-c83b-4ce7-acad-7b902b2bbba9"
      },
      "execution_count": 7,
      "outputs": [
        {
          "output_type": "stream",
          "name": "stdout",
          "text": [
            "cuda:0\n"
          ]
        }
      ]
    },
    {
      "cell_type": "code",
      "source": [
        "net = VisionTransformer()\n",
        "net.to(device)\n",
        "\n",
        "criterion = nn.CrossEntropyLoss()\n",
        "optimizer = optim.Adam(net.parameters(), lr=0.001)\n",
        "\n",
        "train_losses, val_losses = [], []\n",
        "lowest_val_loss = np.inf"
      ],
      "metadata": {
        "id": "5i8H-80WPy_j"
      },
      "execution_count": 8,
      "outputs": []
    },
    {
      "cell_type": "code",
      "source": [
        "net = net.train()\n",
        "\n",
        "for epoch in range(32):\n",
        "    epoch_train_losses, epoch_val_losses = [], []\n",
        "    for x, y in trainloader:\n",
        "        x, y = x.to(device), y.to(device)\n",
        "        pred = net(x)\n",
        "        loss = criterion(pred, y)\n",
        "        optimizer.zero_grad()\n",
        "        loss.backward()\n",
        "        optimizer.step()\n",
        "        epoch_train_losses.append(loss.detach().cpu().numpy())\n",
        "    \n",
        "    correct = 0\n",
        "    total = 0\n",
        "    for x, y in valloader:\n",
        "        x, y = x.to(device), y.to(device)\n",
        "        pred = net(x)\n",
        "        loss = criterion(pred, y)\n",
        "        epoch_val_losses.append(loss.detach().cpu().numpy())\n",
        "\n",
        "        _, predicted = torch.max(pred.data, 1)\n",
        "        total += y.size(0)\n",
        "        correct += (predicted == y).sum().item()\n",
        "    \n",
        "    avg_train_loss = np.mean(epoch_train_losses)\n",
        "    avg_val_loss = np.mean(epoch_val_losses)\n",
        "    train_losses.append(avg_train_loss)\n",
        "    val_losses.append(avg_val_loss)\n",
        "    print(f'Epoch: {epoch}, Training Loss: {avg_train_loss}, Validation Loss: {avg_val_loss}, Validation Accuracy: {100 * correct // total} %')\n",
        "    if avg_val_loss < lowest_val_loss:\n",
        "      lowest_val_loss = avg_val_loss\n",
        "      torch.save(net.state_dict(), PATH)\n",
        "            \n",
        "print('Finished Training')"
      ],
      "metadata": {
        "colab": {
          "base_uri": "https://localhost:8080/"
        },
        "id": "3pdZo2IAjA4E",
        "outputId": "8ffc05c3-fc37-4604-945e-5afbff0c7b5b"
      },
      "execution_count": 9,
      "outputs": [
        {
          "output_type": "stream",
          "name": "stdout",
          "text": [
            "Epoch: 0, Training Loss: 1.8356322050094604, Validation Loss: 1.6874473094940186, Validation Accuracy: 36 %\n",
            "Epoch: 1, Training Loss: 1.6338597536087036, Validation Loss: 1.638653039932251, Validation Accuracy: 38 %\n",
            "Epoch: 2, Training Loss: 1.5379019975662231, Validation Loss: 1.5449739694595337, Validation Accuracy: 43 %\n",
            "Epoch: 3, Training Loss: 1.5184500217437744, Validation Loss: 1.496188998222351, Validation Accuracy: 44 %\n",
            "Epoch: 4, Training Loss: 1.4820855855941772, Validation Loss: 1.5262525081634521, Validation Accuracy: 43 %\n",
            "Epoch: 5, Training Loss: 1.4768726825714111, Validation Loss: 1.5208371877670288, Validation Accuracy: 43 %\n",
            "Epoch: 6, Training Loss: 1.4614739418029785, Validation Loss: 1.4553605318069458, Validation Accuracy: 45 %\n",
            "Epoch: 7, Training Loss: 1.4419506788253784, Validation Loss: 1.4564659595489502, Validation Accuracy: 45 %\n",
            "Epoch: 8, Training Loss: 1.439150094985962, Validation Loss: 1.4447064399719238, Validation Accuracy: 46 %\n",
            "Epoch: 9, Training Loss: 1.4370722770690918, Validation Loss: 1.444899082183838, Validation Accuracy: 46 %\n",
            "Epoch: 10, Training Loss: 1.434851884841919, Validation Loss: 1.436103343963623, Validation Accuracy: 47 %\n",
            "Epoch: 11, Training Loss: 1.4324951171875, Validation Loss: 1.4542697668075562, Validation Accuracy: 45 %\n",
            "Epoch: 12, Training Loss: 1.441326379776001, Validation Loss: 1.4635950326919556, Validation Accuracy: 46 %\n",
            "Epoch: 13, Training Loss: 1.423923134803772, Validation Loss: 1.4906635284423828, Validation Accuracy: 45 %\n",
            "Epoch: 14, Training Loss: 1.456495761871338, Validation Loss: 1.480570912361145, Validation Accuracy: 46 %\n",
            "Epoch: 15, Training Loss: 1.4665701389312744, Validation Loss: 1.4368870258331299, Validation Accuracy: 47 %\n",
            "Epoch: 16, Training Loss: 1.4313050508499146, Validation Loss: 1.5310230255126953, Validation Accuracy: 43 %\n",
            "Epoch: 17, Training Loss: 1.446134090423584, Validation Loss: 1.4678359031677246, Validation Accuracy: 48 %\n",
            "Epoch: 18, Training Loss: 1.4327540397644043, Validation Loss: 1.4289143085479736, Validation Accuracy: 47 %\n",
            "Epoch: 19, Training Loss: 1.4723479747772217, Validation Loss: 1.4900603294372559, Validation Accuracy: 44 %\n",
            "Epoch: 20, Training Loss: 1.449824571609497, Validation Loss: 1.4346275329589844, Validation Accuracy: 46 %\n",
            "Epoch: 21, Training Loss: 1.4287235736846924, Validation Loss: 1.482177734375, Validation Accuracy: 44 %\n",
            "Epoch: 22, Training Loss: 1.4306626319885254, Validation Loss: 1.4401752948760986, Validation Accuracy: 46 %\n",
            "Epoch: 23, Training Loss: 1.4257957935333252, Validation Loss: 1.4670326709747314, Validation Accuracy: 44 %\n",
            "Epoch: 24, Training Loss: 1.4225457906723022, Validation Loss: 1.4224097728729248, Validation Accuracy: 47 %\n",
            "Epoch: 25, Training Loss: 1.3969486951828003, Validation Loss: 1.4226269721984863, Validation Accuracy: 47 %\n",
            "Epoch: 26, Training Loss: 1.4395568370819092, Validation Loss: 1.4532687664031982, Validation Accuracy: 46 %\n",
            "Epoch: 27, Training Loss: 1.4277204275131226, Validation Loss: 1.4801661968231201, Validation Accuracy: 47 %\n",
            "Epoch: 28, Training Loss: 1.4248554706573486, Validation Loss: 1.4697291851043701, Validation Accuracy: 46 %\n",
            "Epoch: 29, Training Loss: 1.4675641059875488, Validation Loss: 1.478437900543213, Validation Accuracy: 45 %\n",
            "Epoch: 30, Training Loss: 1.4511314630508423, Validation Loss: 1.5033760070800781, Validation Accuracy: 43 %\n",
            "Epoch: 31, Training Loss: 1.4495997428894043, Validation Loss: 1.511845588684082, Validation Accuracy: 45 %\n",
            "Finished Training\n"
          ]
        }
      ]
    },
    {
      "cell_type": "code",
      "source": [
        "plt.plot(train_losses)\n",
        "plt.plot(val_losses)\n",
        "plt.show();"
      ],
      "metadata": {
        "colab": {
          "base_uri": "https://localhost:8080/",
          "height": 265
        },
        "id": "ld17hV7wjWPz",
        "outputId": "754df7f6-9848-4d07-8a03-a0086f773ece"
      },
      "execution_count": 10,
      "outputs": [
        {
          "output_type": "display_data",
          "data": {
            "text/plain": [
              "<Figure size 432x288 with 1 Axes>"
            ],
            "image/png": "[encoded data removed]"
          },
          "metadata": {
            "needs_background": "light"
          }
        }
      ]
    },
    {
      "cell_type": "code",
      "source": [
        "net = VisionTransformer()\n",
        "net.load_state_dict(torch.load(PATH))\n",
        "net.to(device);"
      ],
      "metadata": {
        "id": "DjaRy6YxjXgf"
      },
      "execution_count": 11,
      "outputs": []
    },
    {
      "cell_type": "code",
      "source": [
        "net = net.eval()\n",
        "\n",
        "correct = 0\n",
        "total = 0\n",
        "with torch.no_grad():\n",
        "    for data in testloader:\n",
        "        images, labels = data[0].to(device), data[1].to(device)\n",
        "        outputs = net(images)\n",
        "        _, predicted = torch.max(outputs.data, 1)\n",
        "        total += labels.size(0)\n",
        "        correct += (predicted == labels).sum().item()\n",
        "\n",
        "print(f'Accuracy of the network on the 10000 test images: {100 * correct // total} %')"
      ],
      "metadata": {
        "colab": {
          "base_uri": "https://localhost:8080/"
        },
        "id": "_5kTEdMLjgBy",
        "outputId": "ce3a65b3-8445-433d-932f-11479ae2c94c"
      },
      "execution_count": 12,
      "outputs": [
        {
          "output_type": "stream",
          "name": "stdout",
          "text": [
            "Accuracy of the network on the 10000 test images: 48 %\n"
          ]
        }
      ]
    },
    {
      "cell_type": "code",
      "source": [],
      "metadata": {
        "id": "mguvJAyt0eXA"
      },
      "execution_count": null,
      "outputs": []
    }
  ]
}